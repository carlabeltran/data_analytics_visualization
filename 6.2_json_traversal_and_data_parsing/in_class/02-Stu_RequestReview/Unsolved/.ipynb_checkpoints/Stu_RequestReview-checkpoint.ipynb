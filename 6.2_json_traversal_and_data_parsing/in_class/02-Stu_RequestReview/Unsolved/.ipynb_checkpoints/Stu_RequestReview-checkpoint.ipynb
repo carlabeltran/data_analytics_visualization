{
 "cells": [
  {
   "cell_type": "code",
   "execution_count": 1,
   "metadata": {},
   "outputs": [],
   "source": [
    "# Dependencies\n",
    "import json\n",
    "import requests\n",
    "from pprint import pprint"
   ]
  },
  {
   "cell_type": "code",
   "execution_count": 11,
   "metadata": {},
   "outputs": [
    {
     "name": "stdout",
     "output_type": "stream",
     "text": [
      "<Response [200]>\n"
     ]
    }
   ],
   "source": [
    "# Specify the URL\n",
    "url = \"http://nyt-mongo-scraper.herokuapp.com/api/headlines\"\n",
    "\n",
    "# Make request and store response\n",
    "response = requests.get(url)\n",
    "print(response)\n",
    "\n",
    "# help(response)"
   ]
  },
  {
   "cell_type": "code",
   "execution_count": 5,
   "metadata": {},
   "outputs": [],
   "source": [
    "# JSON-ify response\n",
    "response_json = response.json()\n",
    "# pprint(response_json)"
   ]
  },
  {
   "cell_type": "code",
   "execution_count": 7,
   "metadata": {
    "scrolled": true
   },
   "outputs": [
    {
     "name": "stdout",
     "output_type": "stream",
     "text": [
      "{'__v': 0,\n",
      " '_id': '5e19ea0b59cff600159aec24',\n",
      " 'date': '2020-01-11T15:30:19.989Z',\n",
      " 'headline': 'At 16, She’s a Pioneer in the Fight to Cure Sickle Cell Disease',\n",
      " 'saved': True,\n",
      " 'summary': 'Helen Obando is the youngest person ever to get a gene therapy '\n",
      "            'that scientists hope will cure the disease, which afflicts '\n",
      "            '100,000 Americans.',\n",
      " 'url': 'https://www.nytimes.com/2020/01/11/health/sickle-cell-disease-cure.html'}\n",
      "{'__v': 0,\n",
      " '_id': '5e19d91459cff600159aec1b',\n",
      " 'date': '2020-01-11T14:17:56.479Z',\n",
      " 'headline': 'U.S. Unsuccessfully Tried Killing a Second Iranian Military '\n",
      "             'OfficialAs Tensions Flare, Iraq Is Caught in the Middle',\n",
      " 'saved': True,\n",
      " 'summary': 'The failed airstrike in Yemen, on the same day a drone strike '\n",
      "            'killed Maj. Gen. Qassim Suleimani, was aimed at a senior official '\n",
      "            'with Iran’s Quds Force.After U.S. airstrikes killed an Iranian '\n",
      "            'general in Iraq, the country voted to expel American forces. Some '\n",
      "            'Iraqi officials say that would be a disaster.',\n",
      " 'url': 'https://www.nytimes.com/2020/01/10/world/middleeast/trump-iran-yemen.html'}\n"
     ]
    }
   ],
   "source": [
    "# Print first and last articles\n",
    "first_article = response_json[0]\n",
    "last_article = response_json[-1]\n",
    "\n",
    "pprint(first_article)\n",
    "pprint(last_article)"
   ]
  },
  {
   "cell_type": "code",
   "execution_count": 9,
   "metadata": {},
   "outputs": [
    {
     "name": "stdout",
     "output_type": "stream",
     "text": [
      "The number of responses received: 10.\n"
     ]
    }
   ],
   "source": [
    "#Print the number of responses received.\n",
    "print(f\"The number of responses received: {len(response_json)}.\")"
   ]
  },
  {
   "cell_type": "code",
   "execution_count": null,
   "metadata": {},
   "outputs": [],
   "source": []
  }
 ],
 "metadata": {
  "kernelspec": {
   "display_name": "Python 3",
   "language": "python",
   "name": "python3"
  },
  "language_info": {
   "codemirror_mode": {
    "name": "ipython",
    "version": 3
   },
   "file_extension": ".py",
   "mimetype": "text/x-python",
   "name": "python",
   "nbconvert_exporter": "python",
   "pygments_lexer": "ipython3",
   "version": "3.6.9"
  },
  "varInspector": {
   "cols": {
    "lenName": 16,
    "lenType": 16,
    "lenVar": 40
   },
   "kernels_config": {
    "python": {
     "delete_cmd_postfix": "",
     "delete_cmd_prefix": "del ",
     "library": "var_list.py",
     "varRefreshCmd": "print(var_dic_list())"
    },
    "r": {
     "delete_cmd_postfix": ") ",
     "delete_cmd_prefix": "rm(",
     "library": "var_list.r",
     "varRefreshCmd": "cat(var_dic_list()) "
    }
   },
   "types_to_exclude": [
    "module",
    "function",
    "builtin_function_or_method",
    "instance",
    "_Feature"
   ],
   "window_display": false
  }
 },
 "nbformat": 4,
 "nbformat_minor": 4
}
