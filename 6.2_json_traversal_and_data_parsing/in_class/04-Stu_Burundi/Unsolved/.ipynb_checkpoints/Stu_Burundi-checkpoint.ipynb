{
 "cells": [
  {
   "cell_type": "code",
   "execution_count": 1,
   "metadata": {},
   "outputs": [],
   "source": [
    "# Dependencies\n",
    "import requests\n",
    "from config import api_key\n",
    "from pprint import pprint"
   ]
  },
  {
   "cell_type": "code",
   "execution_count": 10,
   "metadata": {},
   "outputs": [],
   "source": [
    "# Build query URL and request your results in Celsius\n",
    "url = \"http://api.openweathermap.org/data/2.5/weather?\"\n",
    "city = \"Bujumbura\"\n",
    "\n",
    "# Build query URL\n",
    "query_url = url + \"appid=\" + api_key + \"&q=\" + city + \"&units=metric\"\n",
    "\n",
    "# Get weather data\n",
    "weather_data = requests.get(query_url).json()"
   ]
  },
  {
   "cell_type": "code",
   "execution_count": 4,
   "metadata": {},
   "outputs": [
    {
     "name": "stdout",
     "output_type": "stream",
     "text": [
      "The current temperature (in Celsius) for Bujumbura is 15.36.\n"
     ]
    }
   ],
   "source": [
    "# Get temperature from JSON response\n",
    "print(f\"The current temperature (in Celsius) for Bujumbura is {weather_data['main']['temp']}.\")"
   ]
  },
  {
   "cell_type": "code",
   "execution_count": 9,
   "metadata": {},
   "outputs": [
    {
     "name": "stdout",
     "output_type": "stream",
     "text": [
      "The current temperature (in Celsius) for Bujumbura is 15.36.\n",
      "The current temperature (in Fahrenheit) for Bujumbura is 59.65.\n"
     ]
    }
   ],
   "source": [
    "# Report temperature\n",
    "#  Augment your code to report the temperature in both Fahrenheit _and_ Celsius.\n",
    "units = ['metric', 'imperial']\n",
    "query_url = url + \"appid=\" + api_key + \"&q=\" + city + \"&units=\"\n",
    "temperatures = []\n",
    "\n",
    "for unit in units:\n",
    "    weather_data = requests.get(query_url + unit).json()\n",
    "    temperatures.append(weather_data[\"main\"][\"temp\"])\n",
    "    \n",
    "print(f\"The current temperature (in Celsius) for Bujumbura is {temperatures[0]}.\")\n",
    "print(f\"The current temperature (in Fahrenheit) for Bujumbura is {temperatures[1]}.\")"
   ]
  },
  {
   "cell_type": "code",
   "execution_count": null,
   "metadata": {},
   "outputs": [],
   "source": []
  }
 ],
 "metadata": {
  "kernelspec": {
   "display_name": "Python 3",
   "language": "python",
   "name": "python3"
  },
  "language_info": {
   "codemirror_mode": {
    "name": "ipython",
    "version": 3
   },
   "file_extension": ".py",
   "mimetype": "text/x-python",
   "name": "python",
   "nbconvert_exporter": "python",
   "pygments_lexer": "ipython3",
   "version": "3.6.9"
  },
  "varInspector": {
   "cols": {
    "lenName": 16,
    "lenType": 16,
    "lenVar": 40
   },
   "kernels_config": {
    "python": {
     "delete_cmd_postfix": "",
     "delete_cmd_prefix": "del ",
     "library": "var_list.py",
     "varRefreshCmd": "print(var_dic_list())"
    },
    "r": {
     "delete_cmd_postfix": ") ",
     "delete_cmd_prefix": "rm(",
     "library": "var_list.r",
     "varRefreshCmd": "cat(var_dic_list()) "
    }
   },
   "types_to_exclude": [
    "module",
    "function",
    "builtin_function_or_method",
    "instance",
    "_Feature"
   ],
   "window_display": false
  }
 },
 "nbformat": 4,
 "nbformat_minor": 4
}
