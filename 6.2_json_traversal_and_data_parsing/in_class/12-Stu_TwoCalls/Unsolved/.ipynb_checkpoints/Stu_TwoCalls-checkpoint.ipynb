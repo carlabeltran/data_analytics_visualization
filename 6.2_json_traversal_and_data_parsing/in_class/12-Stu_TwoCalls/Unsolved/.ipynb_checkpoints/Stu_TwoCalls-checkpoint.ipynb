{
 "cells": [
  {
   "cell_type": "code",
   "execution_count": 9,
   "metadata": {},
   "outputs": [],
   "source": [
    "# Dependencies\n",
    "import requests\n",
    "from pprint import pprint\n",
    "\n",
    "url = \"http://api.worldbank.org/v2/\"\n",
    "format = \"json\""
   ]
  },
  {
   "cell_type": "code",
   "execution_count": 17,
   "metadata": {},
   "outputs": [
    {
     "name": "stdout",
     "output_type": "stream",
     "text": [
      "['IBD', 'IDB', 'IDX', 'LNX']\n"
     ]
    }
   ],
   "source": [
    "# Get the list of lending types the world bank has\n",
    "lending_types_response = requests.get(f\"{url}lendingtype?format={format}\").json()\n",
    "\n",
    "# pprint(lending_types_response)\n",
    "\n",
    "lending_types = []\n",
    "for type in lending_types_response[1]:\n",
    "    lending_types.append(type['id'])\n",
    "print(lending_types)"
   ]
  },
  {
   "cell_type": "code",
   "execution_count": 24,
   "metadata": {},
   "outputs": [
    {
     "name": "stdout",
     "output_type": "stream",
     "text": [
      "{'IBD': 68, 'IDB': 17, 'IDX': 59, 'LNX': 74}\n"
     ]
    }
   ],
   "source": [
    "# Next, determine how many countries fall into each lending type.\n",
    "# Hint: Look at the first element of the response array.\n",
    "\n",
    "country_count_by_type = {}\n",
    "for type in lending_types:\n",
    "    countries_lending_type_response = requests.get(f\"{url}countries?lendingType={type}&format={format}\").json()\n",
    "    country_count_by_type[type] = countries_lending_type_response[0][\"total\"]\n",
    "    \n",
    "print(country_count_by_type)"
   ]
  },
  {
   "cell_type": "code",
   "execution_count": 26,
   "metadata": {},
   "outputs": [
    {
     "name": "stdout",
     "output_type": "stream",
     "text": [
      "The number of countries with lending type IBD s 68.\n",
      "The number of countries with lending type IDB s 17.\n",
      "The number of countries with lending type IDX s 59.\n",
      "The number of countries with lending type LNX s 74.\n"
     ]
    }
   ],
   "source": [
    "# Print the number of countries of each lending type\n",
    "for key, value in country_count_by_type.items():\n",
    "    print(f\"The number of countries with lending type {key} s {value}.\")"
   ]
  },
  {
   "cell_type": "code",
   "execution_count": null,
   "metadata": {},
   "outputs": [],
   "source": []
  }
 ],
 "metadata": {
  "kernelspec": {
   "display_name": "Python 3",
   "language": "python",
   "name": "python3"
  },
  "language_info": {
   "codemirror_mode": {
    "name": "ipython",
    "version": 3
   },
   "file_extension": ".py",
   "mimetype": "text/x-python",
   "name": "python",
   "nbconvert_exporter": "python",
   "pygments_lexer": "ipython3",
   "version": "3.6.9"
  },
  "varInspector": {
   "cols": {
    "lenName": 16,
    "lenType": 16,
    "lenVar": 40
   },
   "kernels_config": {
    "python": {
     "delete_cmd_postfix": "",
     "delete_cmd_prefix": "del ",
     "library": "var_list.py",
     "varRefreshCmd": "print(var_dic_list())"
    },
    "r": {
     "delete_cmd_postfix": ") ",
     "delete_cmd_prefix": "rm(",
     "library": "var_list.r",
     "varRefreshCmd": "cat(var_dic_list()) "
    }
   },
   "types_to_exclude": [
    "module",
    "function",
    "builtin_function_or_method",
    "instance",
    "_Feature"
   ],
   "window_display": false
  }
 },
 "nbformat": 4,
 "nbformat_minor": 4
}
