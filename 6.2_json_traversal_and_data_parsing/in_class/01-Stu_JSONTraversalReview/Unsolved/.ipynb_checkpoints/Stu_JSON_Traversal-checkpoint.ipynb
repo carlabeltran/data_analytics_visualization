{
 "cells": [
  {
   "cell_type": "code",
   "execution_count": 8,
   "metadata": {},
   "outputs": [
    {
     "name": "stdout",
     "output_type": "stream",
     "text": [
      "The video's title is Google Developers Day US - Maps API Introduction.\n",
      "The video's rating is 4.63.\n",
      "The link to the video's thumbnail is http://i.ytimg.com/vi/hYB0mn5zh2c/default.jpg.\n",
      "This video has 220101 views.\n"
     ]
    }
   ],
   "source": [
    "# Dependencies\n",
    "import json\n",
    "import os\n",
    "from pprint import pprint\n",
    "\n",
    "# Load JSON\n",
    "filepath = os.path.join(\"..\", \"Resources\", \"youtube_response.json\")\n",
    "with open(filepath) as jsonfile:\n",
    "    json_data = json.load(jsonfile)\n",
    "#     pprint(json_data)\n",
    "    print(f\"The video's title is {json_data['data']['items'][0]['title']}.\")\n",
    "    print(f\"The video's rating is {json_data['data']['items'][0]['rating']}.\")\n",
    "    print(f\"The link to the video's thumbnail is {json_data['data']['items'][0]['thumbnail']['default']}.\")\n",
    "    print(f\"This video has {json_data['data']['items'][0]['viewCount']} views.\")"
   ]
  },
  {
   "cell_type": "code",
   "execution_count": null,
   "metadata": {},
   "outputs": [],
   "source": []
  }
 ],
 "metadata": {
  "kernelspec": {
   "display_name": "Python 3",
   "language": "python",
   "name": "python3"
  },
  "language_info": {
   "codemirror_mode": {
    "name": "ipython",
    "version": 3
   },
   "file_extension": ".py",
   "mimetype": "text/x-python",
   "name": "python",
   "nbconvert_exporter": "python",
   "pygments_lexer": "ipython3",
   "version": "3.6.9"
  }
 },
 "nbformat": 4,
 "nbformat_minor": 4
}
