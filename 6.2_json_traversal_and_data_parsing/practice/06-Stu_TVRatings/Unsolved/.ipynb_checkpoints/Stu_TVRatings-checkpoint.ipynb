{
 "cells": [
  {
   "cell_type": "code",
   "execution_count": 5,
   "metadata": {},
   "outputs": [],
   "source": [
    "#Dependencies\n",
    "import requests\n",
    "import json\n",
    "import pandas as pd\n",
    "import numpy as np\n",
    "import matplotlib.pyplot as plt\n",
    "from pprint import pprint"
   ]
  },
  {
   "cell_type": "code",
   "execution_count": 9,
   "metadata": {},
   "outputs": [
    {
     "name": "stdout",
     "output_type": "stream",
     "text": [
      "['Altered Carbon', \"Grey's Anatomy\", 'This Is Us', 'The Flash', 'Vikings', 'Shameless', 'Arrow', 'Peaky Blinders', 'Dirk Gently']\n",
      "[8.2, 8.3, 8.1, 7.9, 8.7, 8.7, 7.5, 8.9, 7.3]\n"
     ]
    }
   ],
   "source": [
    "#list of tv show titles to query\n",
    "tv_shows = [\"Altered Carbon\", \"Grey's Anatomy\", \"This is Us\", \"The Flash\", \"Vikings\", \"Shameless\", \"Arrow\", \"Peaky Blinders\", \"Dirk Gently\"]\n",
    "\n",
    "base_url = \"http://api.tvmaze.com/search/shows?q=\"\n",
    "names = []\n",
    "ratings = []\n",
    " \n",
    "\n",
    "# make iterative requests to TVmaze search endpoint\n",
    "for show in tv_shows:\n",
    "    response = requests.get(base_url + show).json()\n",
    "#     pprint(response)\n",
    "    names.append(response[0]['show']['name'])\n",
    "    ratings.append(response[0]['show']['rating']['average'])\n",
    "    \n",
    "print(names)\n",
    "print(ratings)\n",
    "     "
   ]
  },
  {
   "cell_type": "code",
   "execution_count": 10,
   "metadata": {},
   "outputs": [
    {
     "data": {
      "text/html": [
       "<div>\n",
       "<style scoped>\n",
       "    .dataframe tbody tr th:only-of-type {\n",
       "        vertical-align: middle;\n",
       "    }\n",
       "\n",
       "    .dataframe tbody tr th {\n",
       "        vertical-align: top;\n",
       "    }\n",
       "\n",
       "    .dataframe thead th {\n",
       "        text-align: right;\n",
       "    }\n",
       "</style>\n",
       "<table border=\"1\" class=\"dataframe\">\n",
       "  <thead>\n",
       "    <tr style=\"text-align: right;\">\n",
       "      <th></th>\n",
       "      <th>Show</th>\n",
       "      <th>Rating</th>\n",
       "    </tr>\n",
       "  </thead>\n",
       "  <tbody>\n",
       "    <tr>\n",
       "      <th>0</th>\n",
       "      <td>Altered Carbon</td>\n",
       "      <td>8.2</td>\n",
       "    </tr>\n",
       "    <tr>\n",
       "      <th>1</th>\n",
       "      <td>Grey's Anatomy</td>\n",
       "      <td>8.3</td>\n",
       "    </tr>\n",
       "    <tr>\n",
       "      <th>2</th>\n",
       "      <td>This Is Us</td>\n",
       "      <td>8.1</td>\n",
       "    </tr>\n",
       "    <tr>\n",
       "      <th>3</th>\n",
       "      <td>The Flash</td>\n",
       "      <td>7.9</td>\n",
       "    </tr>\n",
       "    <tr>\n",
       "      <th>4</th>\n",
       "      <td>Vikings</td>\n",
       "      <td>8.7</td>\n",
       "    </tr>\n",
       "    <tr>\n",
       "      <th>5</th>\n",
       "      <td>Shameless</td>\n",
       "      <td>8.7</td>\n",
       "    </tr>\n",
       "    <tr>\n",
       "      <th>6</th>\n",
       "      <td>Arrow</td>\n",
       "      <td>7.5</td>\n",
       "    </tr>\n",
       "    <tr>\n",
       "      <th>7</th>\n",
       "      <td>Peaky Blinders</td>\n",
       "      <td>8.9</td>\n",
       "    </tr>\n",
       "    <tr>\n",
       "      <th>8</th>\n",
       "      <td>Dirk Gently</td>\n",
       "      <td>7.3</td>\n",
       "    </tr>\n",
       "  </tbody>\n",
       "</table>\n",
       "</div>"
      ],
      "text/plain": [
       "             Show  Rating\n",
       "0  Altered Carbon     8.2\n",
       "1  Grey's Anatomy     8.3\n",
       "2      This Is Us     8.1\n",
       "3       The Flash     7.9\n",
       "4         Vikings     8.7\n",
       "5       Shameless     8.7\n",
       "6           Arrow     7.5\n",
       "7  Peaky Blinders     8.9\n",
       "8     Dirk Gently     7.3"
      ]
     },
     "execution_count": 10,
     "metadata": {},
     "output_type": "execute_result"
    }
   ],
   "source": [
    "# create dataframe\n",
    "df = pd.DataFrame({\n",
    "    \"Show\": names,\n",
    "    \"Rating\": ratings\n",
    "})\n",
    "\n",
    "df"
   ]
  },
  {
   "cell_type": "code",
   "execution_count": 13,
   "metadata": {},
   "outputs": [
    {
     "data": {
      "text/plain": [
       "([<matplotlib.axis.XTick at 0x1dadec61198>,\n",
       "  <matplotlib.axis.XTick at 0x1dadec50048>,\n",
       "  <matplotlib.axis.XTick at 0x1dadec50748>,\n",
       "  <matplotlib.axis.XTick at 0x1dadec93c18>,\n",
       "  <matplotlib.axis.XTick at 0x1dadeca0160>,\n",
       "  <matplotlib.axis.XTick at 0x1dadeca06a0>,\n",
       "  <matplotlib.axis.XTick at 0x1dadeca0c18>,\n",
       "  <matplotlib.axis.XTick at 0x1dadeca61d0>,\n",
       "  <matplotlib.axis.XTick at 0x1dadeca6710>],\n",
       " <a list of 9 Text xticklabel objects>)"
      ]
     },
     "execution_count": 13,
     "metadata": {},
     "output_type": "execute_result"
    },
    {
     "data": {
      "image/png": "[encoded data removed]",
      "text/plain": [
       "<Figure size 432x288 with 1 Axes>"
      ]
     },
     "metadata": {
      "needs_background": "light"
     },
     "output_type": "display_data"
    }
   ],
   "source": [
    "# use matplotlib to create a bar chart from the dataframe\n",
    "tick_locations = np.arange(len(df))\n",
    "plt.bar(tick_locations, df[\"Rating\"], alpha=0.3, align=\"edge\")\n",
    "plt.xlabel(\"TV Show\")\n",
    "plt.ylabel(\"Average Rating\")\n",
    "plt.title(\"Average Rating for TV Shows\")\n",
    "plt.xticks(tick_locations, df[\"Show\"], rotation=45)\n"
   ]
  },
  {
   "cell_type": "code",
   "execution_count": null,
   "metadata": {},
   "outputs": [],
   "source": []
  }
 ],
 "metadata": {
  "kernelspec": {
   "display_name": "Python 3",
   "language": "python",
   "name": "python3"
  },
  "language_info": {
   "codemirror_mode": {
    "name": "ipython",
    "version": 3
   },
   "file_extension": ".py",
   "mimetype": "text/x-python",
   "name": "python",
   "nbconvert_exporter": "python",
   "pygments_lexer": "ipython3",
   "version": "3.6.9"
  }
 },
 "nbformat": 4,
 "nbformat_minor": 4
}
