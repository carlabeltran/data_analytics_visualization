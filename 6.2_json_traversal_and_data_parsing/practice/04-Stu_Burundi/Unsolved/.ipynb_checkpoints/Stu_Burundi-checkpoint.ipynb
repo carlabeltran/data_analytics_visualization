{
 "cells": [
  {
   "cell_type": "code",
   "execution_count": 3,
   "metadata": {},
   "outputs": [],
   "source": [
    "# Dependencies\n",
    "import requests\n",
    "from config import api_key\n",
    "from pprint import pprint"
   ]
  },
  {
   "cell_type": "code",
   "execution_count": 4,
   "metadata": {},
   "outputs": [
    {
     "name": "stdout",
     "output_type": "stream",
     "text": [
      "{'base': 'model',\n",
      " 'clouds': {'all': 100},\n",
      " 'cod': 200,\n",
      " 'coord': {'lat': -3.38, 'lon': 29.36},\n",
      " 'dt': 1578781583,\n",
      " 'id': 425378,\n",
      " 'main': {'feels_like': 15.19,\n",
      "          'grnd_level': 810,\n",
      "          'humidity': 94,\n",
      "          'pressure': 1017,\n",
      "          'sea_level': 1017,\n",
      "          'temp': 14.87,\n",
      "          'temp_max': 14.87,\n",
      "          'temp_min': 14.87},\n",
      " 'name': 'Bujumbura',\n",
      " 'rain': {'3h': 2.06},\n",
      " 'sys': {'country': 'BI', 'sunrise': 1578801683, 'sunset': 1578845961},\n",
      " 'timezone': 7200,\n",
      " 'weather': [{'description': 'light rain',\n",
      "              'icon': '10n',\n",
      "              'id': 500,\n",
      "              'main': 'Rain'}],\n",
      " 'wind': {'deg': 172, 'speed': 1.3}}\n"
     ]
    }
   ],
   "source": [
    "# Build query URL and request your results in Celsius\n",
    "url = \"http://api.openweathermap.org/data/2.5/weather?\"\n",
    "city = \"Bujumbura\"\n",
    "units = \"metric\"\n",
    "\n",
    "# Build query URL\n",
    "query_url = url + \"appid=\" + api_key + \"&q=\" + city + \"&units=\" + units\n",
    "\n",
    "# Get weather data\n",
    "weather_data = requests.get(query_url).json()\n",
    "pprint(weather_data)"
   ]
  },
  {
   "cell_type": "code",
   "execution_count": 6,
   "metadata": {},
   "outputs": [
    {
     "name": "stdout",
     "output_type": "stream",
     "text": [
      "The temperature for Bujumbura in Celsius is 14.87.\n"
     ]
    }
   ],
   "source": [
    "# Get temperature from JSON response\n",
    "print(f\"The temperature for {city} in Celsius is {weather_data['main']['temp']}.\")"
   ]
  },
  {
   "cell_type": "code",
   "execution_count": 8,
   "metadata": {},
   "outputs": [
    {
     "name": "stdout",
     "output_type": "stream",
     "text": [
      "The temperature for Bujumbura in Fahrenheit is 57.52.\n",
      "The temperature for Bujumbura in Celsius is 14.18.\n"
     ]
    }
   ],
   "source": [
    "# Report temperature\n",
    "units = [\"imperial\", \"metric\"]\n",
    "temps = []\n",
    "\n",
    "for unit in units:\n",
    "    query_url = url + \"appid=\" + api_key + \"&q=\" + city + \"&units=\" + unit\n",
    "    weather_data = requests.get(query_url).json()\n",
    "    temps.append(weather_data['main']['temp'])\n",
    "    \n",
    "print(f\"The temperature for {city} in Fahrenheit is {temps[0]}.\")\n",
    "print(f\"The temperature for {city} in Celsius is {temps[1]}.\")\n",
    "    "
   ]
  },
  {
   "cell_type": "code",
   "execution_count": null,
   "metadata": {},
   "outputs": [],
   "source": []
  }
 ],
 "metadata": {
  "kernelspec": {
   "display_name": "Python 3",
   "language": "python",
   "name": "python3"
  },
  "language_info": {
   "codemirror_mode": {
    "name": "ipython",
    "version": 3
   },
   "file_extension": ".py",
   "mimetype": "text/x-python",
   "name": "python",
   "nbconvert_exporter": "python",
   "pygments_lexer": "ipython3",
   "version": "3.6.9"
  },
  "varInspector": {
   "cols": {
    "lenName": 16,
    "lenType": 16,
    "lenVar": 40
   },
   "kernels_config": {
    "python": {
     "delete_cmd_postfix": "",
     "delete_cmd_prefix": "del ",
     "library": "var_list.py",
     "varRefreshCmd": "print(var_dic_list())"
    },
    "r": {
     "delete_cmd_postfix": ") ",
     "delete_cmd_prefix": "rm(",
     "library": "var_list.r",
     "varRefreshCmd": "cat(var_dic_list()) "
    }
   },
   "types_to_exclude": [
    "module",
    "function",
    "builtin_function_or_method",
    "instance",
    "_Feature"
   ],
   "window_display": false
  }
 },
 "nbformat": 4,
 "nbformat_minor": 4
}
