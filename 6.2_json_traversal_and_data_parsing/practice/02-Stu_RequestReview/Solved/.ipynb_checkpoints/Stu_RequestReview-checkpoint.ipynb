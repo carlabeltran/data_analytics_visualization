{
 "cells": [
  {
   "cell_type": "code",
   "execution_count": 2,
   "metadata": {},
   "outputs": [],
   "source": [
    "# Dependencies\n",
    "import json\n",
    "import requests "
   ]
  },
  {
   "cell_type": "code",
   "execution_count": 3,
   "metadata": {},
   "outputs": [
    {
     "name": "stdout",
     "output_type": "stream",
     "text": [
      "200\n"
     ]
    }
   ],
   "source": [
    "# Specify the URL\n",
    "url = \"http://nyt-mongo-scraper.herokuapp.com/api/headlines\"\n",
    "\n",
    "# Make request and store response\n",
    "response = requests.get(url)\n",
    "\n",
    "# Print status code\n",
    "print(response.status_code)"
   ]
  },
  {
   "cell_type": "code",
   "execution_count": 4,
   "metadata": {},
   "outputs": [],
   "source": [
    "# JSON-ify response\n",
    "response_json = response.json()"
   ]
  },
  {
   "cell_type": "code",
   "execution_count": 5,
   "metadata": {
    "scrolled": true
   },
   "outputs": [
    {
     "name": "stdout",
     "output_type": "stream",
     "text": [
      "The first response is {\n",
      "  \"saved\": false,\n",
      "  \"_id\": \"5e1a491b59cff600159aee74\",\n",
      "  \"headline\": \"Current Job: Award-Winning Chef. Education: University of IHOP.\",\n",
      "  \"summary\": \"American chain restaurants don\\u2019t reap much critical praise, but many high-end chefs say they got a priceless, practical education there.\",\n",
      "  \"url\": \"https://www.nytimes.com/2020/01/07/dining/chef-chain-restaurant.html\",\n",
      "  \"date\": \"2020-01-11T22:15:55.438Z\",\n",
      "  \"__v\": 0\n",
      "}.\n",
      "The last response is {\n",
      "  \"saved\": false,\n",
      "  \"_id\": \"5e1a491b59cff600159aee6e\",\n",
      "  \"headline\": \"Sanders and Biden Try to Slow Warren and Buttigieg in Early StatesBloomberg Is Open to Spending $1 Billion to Defeat Trump\",\n",
      "  \"summary\": \"Bernie Sanders and Joe Biden have been vying for control of the race, while working to deny momentum to Elizabeth Warren and Pete Buttigieg.Michael Bloomberg said he would still spend big even if he lost the nomination to a candidate he had sharp differences with.\",\n",
      "  \"url\": \"https://www.nytimes.com/2020/01/11/us/politics/sanders-biden-early-states.html\",\n",
      "  \"date\": \"2020-01-11T22:15:55.436Z\",\n",
      "  \"__v\": 0\n",
      "}.\n"
     ]
    }
   ],
   "source": [
    "# Print first and last articles\n",
    "print(f\"The first response is {json.dumps(response_json[0], indent=2)}.\")\n",
    "print(f\"The last response is {json.dumps(response_json[-1], indent=2)}.\")"
   ]
  },
  {
   "cell_type": "code",
   "execution_count": 6,
   "metadata": {},
   "outputs": [
    {
     "name": "stdout",
     "output_type": "stream",
     "text": [
      "We received 10 responses.\n"
     ]
    }
   ],
   "source": [
    "print(f\"We received {len(response_json)} responses.\")"
   ]
  },
  {
   "cell_type": "code",
   "execution_count": null,
   "metadata": {},
   "outputs": [],
   "source": []
  }
 ],
 "metadata": {
  "kernelspec": {
   "display_name": "Python 3",
   "language": "python",
   "name": "python3"
  },
  "language_info": {
   "codemirror_mode": {
    "name": "ipython",
    "version": 3
   },
   "file_extension": ".py",
   "mimetype": "text/x-python",
   "name": "python",
   "nbconvert_exporter": "python",
   "pygments_lexer": "ipython3",
   "version": "3.6.9"
  },
  "varInspector": {
   "cols": {
    "lenName": 16,
    "lenType": 16,
    "lenVar": 40
   },
   "kernels_config": {
    "python": {
     "delete_cmd_postfix": "",
     "delete_cmd_prefix": "del ",
     "library": "var_list.py",
     "varRefreshCmd": "print(var_dic_list())"
    },
    "r": {
     "delete_cmd_postfix": ") ",
     "delete_cmd_prefix": "rm(",
     "library": "var_list.r",
     "varRefreshCmd": "cat(var_dic_list()) "
    }
   },
   "types_to_exclude": [
    "module",
    "function",
    "builtin_function_or_method",
    "instance",
    "_Feature"
   ],
   "window_display": false
  }
 },
 "nbformat": 4,
 "nbformat_minor": 4
}
