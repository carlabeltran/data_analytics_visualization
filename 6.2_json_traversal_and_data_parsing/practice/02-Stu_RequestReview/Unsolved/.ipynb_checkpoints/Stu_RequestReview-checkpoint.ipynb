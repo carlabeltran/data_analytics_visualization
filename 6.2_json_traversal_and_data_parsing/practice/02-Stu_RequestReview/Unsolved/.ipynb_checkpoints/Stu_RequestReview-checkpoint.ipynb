{
 "cells": [
  {
   "cell_type": "code",
   "execution_count": 1,
   "metadata": {},
   "outputs": [],
   "source": [
    "# Dependencies\n",
    "import json\n",
    "import requests\n",
    "from pprint import pprint"
   ]
  },
  {
   "cell_type": "code",
   "execution_count": 3,
   "metadata": {},
   "outputs": [],
   "source": [
    "# Specify the URL\n",
    "url = \"http://nyt-mongo-scraper.herokuapp.com/api/headlines\"\n",
    "# Make request and store response\n",
    "response = requests.get(url)"
   ]
  },
  {
   "cell_type": "code",
   "execution_count": 4,
   "metadata": {},
   "outputs": [],
   "source": [
    "# JSON-ify response\n",
    "response_json = response.json()"
   ]
  },
  {
   "cell_type": "code",
   "execution_count": 5,
   "metadata": {
    "scrolled": true
   },
   "outputs": [
    {
     "name": "stdout",
     "output_type": "stream",
     "text": [
      "{'saved': False, '_id': '5e1a491b59cff600159aee74', 'headline': 'Current Job: Award-Winning Chef. Education: University of IHOP.', 'summary': 'American chain restaurants don’t reap much critical praise, but many high-end chefs say they got a priceless, practical education there.', 'url': 'https://www.nytimes.com/2020/01/07/dining/chef-chain-restaurant.html', 'date': '2020-01-11T22:15:55.438Z', '__v': 0}\n",
      "{'saved': False, '_id': '5e1a491b59cff600159aee6f', 'headline': 'In Blow to Beijing, Taiwan Re-elects Tsai Ing-wen as President', 'summary': 'The victory was a remarkable comeback for Ms. Tsai and suggested that Beijing’s pressure campaign had backfired.', 'url': 'https://www.nytimes.com/2020/01/11/world/asia/taiwan-election-china.html', 'date': '2020-01-11T22:15:55.437Z', '__v': 0}\n"
     ]
    }
   ],
   "source": [
    "# Print first and last articles\n",
    "print(response_json[0])\n",
    "print(response_json[1])"
   ]
  },
  {
   "cell_type": "code",
   "execution_count": 6,
   "metadata": {},
   "outputs": [
    {
     "name": "stdout",
     "output_type": "stream",
     "text": [
      "10\n"
     ]
    }
   ],
   "source": [
    "#Print the number of responses received.\n",
    "print(len(response_json))"
   ]
  },
  {
   "cell_type": "code",
   "execution_count": null,
   "metadata": {},
   "outputs": [],
   "source": []
  }
 ],
 "metadata": {
  "kernelspec": {
   "display_name": "Python 3",
   "language": "python",
   "name": "python3"
  },
  "language_info": {
   "codemirror_mode": {
    "name": "ipython",
    "version": 3
   },
   "file_extension": ".py",
   "mimetype": "text/x-python",
   "name": "python",
   "nbconvert_exporter": "python",
   "pygments_lexer": "ipython3",
   "version": "3.6.9"
  },
  "varInspector": {
   "cols": {
    "lenName": 16,
    "lenType": 16,
    "lenVar": 40
   },
   "kernels_config": {
    "python": {
     "delete_cmd_postfix": "",
     "delete_cmd_prefix": "del ",
     "library": "var_list.py",
     "varRefreshCmd": "print(var_dic_list())"
    },
    "r": {
     "delete_cmd_postfix": ") ",
     "delete_cmd_prefix": "rm(",
     "library": "var_list.r",
     "varRefreshCmd": "cat(var_dic_list()) "
    }
   },
   "types_to_exclude": [
    "module",
    "function",
    "builtin_function_or_method",
    "instance",
    "_Feature"
   ],
   "window_display": false
  }
 },
 "nbformat": 4,
 "nbformat_minor": 4
}
