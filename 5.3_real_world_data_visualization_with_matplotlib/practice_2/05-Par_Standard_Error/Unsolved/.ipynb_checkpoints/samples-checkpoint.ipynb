{
 "cells": [
  {
   "cell_type": "code",
   "execution_count": 2,
   "metadata": {},
   "outputs": [],
   "source": [
    "# Dependencies\n",
    "from matplotlib import pyplot as plt\n",
    "import numpy as np\n",
    "import pandas as pd\n",
    "from sklearn.datasets import load_boston\n",
    "from scipy.stats import sem"
   ]
  },
  {
   "cell_type": "code",
   "execution_count": 3,
   "metadata": {},
   "outputs": [],
   "source": [
    "# Import the Boston housing data set from sklearn and get description\n",
    "boston_dataset = load_boston()"
   ]
  },
  {
   "cell_type": "code",
   "execution_count": 4,
   "metadata": {},
   "outputs": [],
   "source": [
    "# Read Boston housing data into a Pandas dataframe\n",
    "housing_data = pd.DataFrame(data=boston_dataset.data,columns=boston_dataset.feature_names)\n",
    "housing_data['MEDV'] = boston_dataset.target"
   ]
  },
  {
   "cell_type": "code",
   "execution_count": 5,
   "metadata": {},
   "outputs": [],
   "source": [
    "# Create a bunch of samples, each with sample size of 20\n",
    "samples = [housing_data[\"MEDV\"].sample(20) for x in range(0, 25)]"
   ]
  },
  {
   "cell_type": "code",
   "execution_count": 6,
   "metadata": {},
   "outputs": [
    {
     "name": "stdout",
     "output_type": "stream",
     "text": [
      "[20.575, 20.49, 20.875, 20.735, 23.390000000000004, 19.374999999999996, 17.73, 19.32, 19.78, 18.300000000000004, 23.735, 20.930000000000003, 22.280000000000005, 22.735, 21.0, 24.090000000000003, 22.894999999999996, 22.990000000000002, 23.12, 22.050000000000004, 20.525000000000002, 22.645000000000003, 19.405, 22.410000000000004, 20.3]\n",
      "[1.6564526936546629, 1.4612161481378951, 2.277393188898681, 1.8477621600195198, 1.997470769168903, 1.3439312913201602, 1.0467518682496872, 1.6265494637098301, 1.7285923692262928, 1.6280921996392939, 2.102508213889706, 1.367462113398008, 2.2191937843801695, 1.538082794979037, 1.4775335066108972, 2.8055480747975072, 1.5629337292749372, 1.404483422547424, 1.8326512287709815, 2.1152640745928526, 2.425618477831994, 2.076009266280912, 1.537743990054056, 1.9245491611502707, 2.348863106853365]\n"
     ]
    }
   ],
   "source": [
    "# Calculate standard error of means\n",
    "means = [sample.mean() for sample in samples]\n",
    "standard_errors = [sem(sample) for sample in samples]\n",
    "print(means)\n",
    "print(standard_errors)"
   ]
  },
  {
   "cell_type": "code",
   "execution_count": 10,
   "metadata": {},
   "outputs": [
    {
     "name": "stdout",
     "output_type": "stream",
     "text": [
      "1.0467518682496872\n",
      "6\n",
      "17.73\n"
     ]
    }
   ],
   "source": [
    "# Determine which sample has the lowest standard error value\n",
    "lowest_standard_error = min(standard_errors)\n",
    "print(lowest_standard_error)\n",
    "\n",
    "sample_index = standard_errors.index(lowest_standard_error)\n",
    "print(sample_index)\n",
    "\n",
    "mean_sample_smallest_sem = samples[sample_index].mean()\n",
    "print(mean_sample_smallest_sem)"
   ]
  },
  {
   "cell_type": "code",
   "execution_count": 8,
   "metadata": {},
   "outputs": [
    {
     "name": "stdout",
     "output_type": "stream",
     "text": [
      "22.532806324110698\n"
     ]
    }
   ],
   "source": [
    "# Compare to the population mean\n",
    "population_mean = housing_data[\"MEDV\"].mean()\n",
    "print(population_mean)"
   ]
  },
  {
   "cell_type": "code",
   "execution_count": null,
   "metadata": {},
   "outputs": [],
   "source": [
    "# Plot sample means with error bars"
   ]
  }
 ],
 "metadata": {
  "kernelspec": {
   "display_name": "Python 3",
   "language": "python",
   "name": "python3"
  },
  "language_info": {
   "codemirror_mode": {
    "name": "ipython",
    "version": 3
   },
   "file_extension": ".py",
   "mimetype": "text/x-python",
   "name": "python",
   "nbconvert_exporter": "python",
   "pygments_lexer": "ipython3",
   "version": "3.6.9"
  }
 },
 "nbformat": 4,
 "nbformat_minor": 4
}
