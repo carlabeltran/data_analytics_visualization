{
 "cells": [
  {
   "cell_type": "code",
   "execution_count": null,
   "metadata": {},
   "outputs": [],
   "source": [
    "# Dependencies\n",
    "from matplotlib import pyplot as plt\n",
    "from scipy import stats\n",
    "import numpy as np\n",
    "import pandas as pd"
   ]
  },
  {
   "cell_type": "code",
   "execution_count": null,
   "metadata": {},
   "outputs": [],
   "source": [
    "# Load crime data set into pandas\n",
    "crime_data = pd.read_csv(\"../Resources/crime_data.csv\")\n",
    "crime_data.head()"
   ]
  },
  {
   "cell_type": "code",
   "execution_count": null,
   "metadata": {},
   "outputs": [],
   "source": [
    "# Generate a scatter plot of year versus violent crime rate\n",
    "year = crime_data.iloc[:,0]\n",
    "violent_crime_rate = crime_data.iloc[:,3]\n",
    "plt.scatter(year,violent_crime_rate)\n",
    "plt.xticks(year, rotation=90)\n",
    "plt.xlabel('Year')\n",
    "plt.ylabel('Violent Crime Rate')\n",
    "plt.show()"
   ]
  },
  {
   "cell_type": "code",
   "execution_count": null,
   "metadata": {},
   "outputs": [],
   "source": [
    "# Perform a linear regression on year versus violent crime rate\n",
    "vc_slope, vc_int, vc_r, vc_p, vc_std_err = stats.linregress(year, violent_crime_rate)"
   ]
  },
  {
   "cell_type": "code",
   "execution_count": null,
   "metadata": {},
   "outputs": [],
   "source": [
    "# Create equation of line to calculate predicted violent crime rate\n",
    "vc_fit = vc_slope * year + vc_int"
   ]
  },
  {
   "cell_type": "code",
   "execution_count": null,
   "metadata": {},
   "outputs": [],
   "source": [
    "# Plot the linear model on top of scatter plot \n",
    "year = crime_data.iloc[:,0]\n",
    "violent_crime_rate = crime_data.iloc[:,3]\n",
    "plt.scatter(year,violent_crime_rate)\n",
    "plt.plot(year,vc_fit,\"--\")\n",
    "plt.xticks(year, rotation=90)\n",
    "plt.xlabel('Year')\n",
    "plt.ylabel('Violent Crime Rate')\n",
    "plt.show()"
   ]
  },
  {
   "cell_type": "code",
   "execution_count": null,
   "metadata": {},
   "outputs": [],
   "source": [
    "# Repeat plotting scatter and linear model for year versus murder rate\n",
    "murder_rate = crime_data.iloc[:, 5]\n",
    "m_slope, m_int, m_r, m_p, m_std_err = stats.linregress(year, murder_rate)\n",
    "m_fit = m_slope * year + m_int\n",
    "plt.scatter(year,murder_rate)\n",
    "plt.plot(year,m_fit,\"--\")\n",
    "plt.xticks(year, rotation=90)\n",
    "plt.xlabel('Year')\n",
    "plt.ylabel('Murder Rate')\n",
    "plt.show()"
   ]
  },
  {
   "cell_type": "code",
   "execution_count": null,
   "metadata": {},
   "outputs": [],
   "source": [
    "# Repeat plotting scatter and linear model for year versus aggravated assault\n",
    "aggravated_assault_rate = crime_data.iloc[:, 9]\n",
    "aa_slope, aa_int, aa_r, aa_p, aa_std_err = stats.linregress(\n",
    "    year, aggravated_assault_rate)\n",
    "aa_fit = aa_slope * year + aa_int\n",
    "plt.scatter(year,aggravated_assault_rate)\n",
    "plt.plot(year,aa_fit,\"--\")\n",
    "plt.xticks(year, rotation=90)\n",
    "plt.xlabel('Year')\n",
    "plt.ylabel('Aggravated Assault Rate')\n",
    "plt.show()"
   ]
  },
  {
   "cell_type": "code",
   "execution_count": null,
   "metadata": {},
   "outputs": [],
   "source": [
    "# Generate a facet plot of all 3 figures\n",
    "fig, (ax1, ax2, ax3) = plt.subplots(3, sharex=True)\n",
    "fig.suptitle(\"Crime Rates Over Time\", fontsize=16, fontweight=\"bold\")\n",
    "\n",
    "ax1.set_xlim(min(year), max(year))\n",
    "ax1.plot(year, violent_crime_rate, linewidth=1, marker=\"o\")\n",
    "ax1.plot(year, vc_fit, \"b--\", linewidth=1)\n",
    "ax1.set_ylabel(\"Violent Crime Rate\")\n",
    "\n",
    "ax2.plot(year, murder_rate, linewidth=1, marker=\"o\", color=\"r\")\n",
    "ax2.plot(year, m_fit, \"r--\", linewidth=1)\n",
    "ax2.set_ylabel(\"Murder Rate\")\n",
    "\n",
    "ax3.plot(year, aggravated_assault_rate, linewidth=1, marker=\"o\", color=\"g\")\n",
    "ax3.plot(year, aa_fit, \"g--\", linewidth=1)\n",
    "ax3.set_ylabel(\"Aggravated Assault Rate\")\n",
    "ax3.set_xlabel(\"Year\")\n",
    "\n",
    "plt.show()"
   ]
  },
  {
   "cell_type": "code",
   "execution_count": null,
   "metadata": {},
   "outputs": [],
   "source": [
    "# Calculate the crime rates for 2020\n",
    "year = 2020\n",
    "print(f\"The violent crime rate in {year} will be {round(vc_slope * year + vc_int,2)}.\")\n",
    "print(f\"The murder rate in {year} will be {round(m_slope * year + m_int,2)}.\")\n",
    "print(f\"The aggravated assault rate in {year} will be {round(aa_slope * year + aa_int,2)}.\")"
   ]
  },
  {
   "cell_type": "code",
   "execution_count": null,
   "metadata": {},
   "outputs": [],
   "source": []
  }
 ],
 "metadata": {
  "kernelspec": {
   "display_name": "Python 3",
   "language": "python",
   "name": "python3"
  },
  "language_info": {
   "codemirror_mode": {
    "name": "ipython",
    "version": 3
   },
   "file_extension": ".py",
   "mimetype": "text/x-python",
   "name": "python",
   "nbconvert_exporter": "python",
   "pygments_lexer": "ipython3",
   "version": "3.6.9"
  }
 },
 "nbformat": 4,
 "nbformat_minor": 4
}
