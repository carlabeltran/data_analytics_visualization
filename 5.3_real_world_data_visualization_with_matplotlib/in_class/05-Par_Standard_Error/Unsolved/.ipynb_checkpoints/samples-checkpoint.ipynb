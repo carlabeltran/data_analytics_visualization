{
 "cells": [
  {
   "cell_type": "code",
   "execution_count": 1,
   "metadata": {},
   "outputs": [],
   "source": [
    "# Dependencies\n",
    "from matplotlib import pyplot as plt\n",
    "import numpy as np\n",
    "import pandas as pd\n",
    "from sklearn.datasets import load_boston\n",
    "from scipy.stats import sem"
   ]
  },
  {
   "cell_type": "code",
   "execution_count": 2,
   "metadata": {},
   "outputs": [],
   "source": [
    "# Import the Boston housing data set from sklearn and get description\n",
    "boston_dataset = load_boston()"
   ]
  },
  {
   "cell_type": "code",
   "execution_count": 5,
   "metadata": {},
   "outputs": [
    {
     "data": {
      "text/plain": [
       "0      24.0\n",
       "1      21.6\n",
       "2      34.7\n",
       "3      33.4\n",
       "4      36.2\n",
       "       ... \n",
       "501    22.4\n",
       "502    20.6\n",
       "503    23.9\n",
       "504    22.0\n",
       "505    11.9\n",
       "Name: MEDV, Length: 506, dtype: float64"
      ]
     },
     "execution_count": 5,
     "metadata": {},
     "output_type": "execute_result"
    }
   ],
   "source": [
    "# Read Boston housing data into a Pandas dataframe\n",
    "housing_data = pd.DataFrame(data=boston_dataset.data,columns=boston_dataset.feature_names)\n",
    "housing_data['MEDV'] = boston_dataset.target\n",
    "\n",
    "housing_data[\"MEDV\"]"
   ]
  },
  {
   "cell_type": "code",
   "execution_count": 20,
   "metadata": {},
   "outputs": [],
   "source": [
    "# Create a bunch of samples, each with sample size of 20\n",
    "housing_sample_set = [housing_data[\"MEDV\"].sample(25) for x in range(0, 10)]\n",
    "# print(housing_sample_set)"
   ]
  },
  {
   "cell_type": "code",
   "execution_count": 21,
   "metadata": {},
   "outputs": [
    {
     "name": "stdout",
     "output_type": "stream",
     "text": [
      "[1.7837440025594105, 1.70556031848774, 2.145044832476313, 1.9844485380074737, 1.6168764125106574, 1.966935687814932, 1.1020738027313175, 1.5699944798204437, 2.248217664432576, 1.7526634968907562]\n",
      "[22.676, 19.756, 21.428, 22.544, 23.284000000000002, 23.356000000000005, 21.28, 23.704000000000004, 20.396, 19.363999999999997]\n"
     ]
    }
   ],
   "source": [
    "# Calculate standard error of means\n",
    "standard_errors = [sem(sample) for sample in housing_sample_set]\n",
    "means = [sample.mean() for sample in housing_sample_set]\n",
    "print(standard_errors)\n",
    "print(means)"
   ]
  },
  {
   "cell_type": "code",
   "execution_count": 22,
   "metadata": {},
   "outputs": [
    {
     "name": "stdout",
     "output_type": "stream",
     "text": [
      "1.1020738027313175\n"
     ]
    }
   ],
   "source": [
    "# Determine which sample has the lowest standard error value\n",
    "lowest = min(standard_errors)\n",
    "print(lowest)"
   ]
  },
  {
   "cell_type": "code",
   "execution_count": 23,
   "metadata": {},
   "outputs": [
    {
     "name": "stdout",
     "output_type": "stream",
     "text": [
      "22.532806324110698\n"
     ]
    }
   ],
   "source": [
    "# Compare to the population mean\n",
    "population_mean = housing_data[\"MEDV\"].mean()\n",
    "print(population_mean)"
   ]
  },
  {
   "cell_type": "code",
   "execution_count": 25,
   "metadata": {},
   "outputs": [
    {
     "data": {
      "image/png": "[encoded data removed]",
      "text/plain": [
       "<Figure size 432x288 with 1 Axes>"
      ]
     },
     "metadata": {
      "needs_background": "light"
     },
     "output_type": "display_data"
    }
   ],
   "source": [
    "# Plot sample means with error bars\n",
    "x_axis = np.arange(0, len(housing_sample_set), 1) + 1\n",
    "fig, ax = plt.subplots()\n",
    "ax.errorbar(x_axis, means, standard_errors, fmt=\"o\")\n",
    "ax.set_xlim(0, len(housing_sample_set) + 1)\n",
    "ax.set_xlabel(\"Sample Number\")\n",
    "ax.set_ylabel(\"Mean Population\")\n",
    "plt.show()\n"
   ]
  },
  {
   "cell_type": "code",
   "execution_count": null,
   "metadata": {},
   "outputs": [],
   "source": []
  }
 ],
 "metadata": {
  "kernelspec": {
   "display_name": "Python 3",
   "language": "python",
   "name": "python3"
  },
  "language_info": {
   "codemirror_mode": {
    "name": "ipython",
    "version": 3
   },
   "file_extension": ".py",
   "mimetype": "text/x-python",
   "name": "python",
   "nbconvert_exporter": "python",
   "pygments_lexer": "ipython3",
   "version": "3.6.9"
  }
 },
 "nbformat": 4,
 "nbformat_minor": 4
}
