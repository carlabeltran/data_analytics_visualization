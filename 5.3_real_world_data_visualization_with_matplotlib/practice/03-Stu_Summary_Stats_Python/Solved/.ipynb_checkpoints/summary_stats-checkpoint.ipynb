{
 "cells": [
  {
   "cell_type": "code",
   "execution_count": 1,
   "metadata": {},
   "outputs": [],
   "source": [
    "# Dependencies\n",
    "import pandas as pd\n",
    "import matplotlib.pyplot as plt\n",
    "import scipy.stats as sts"
   ]
  },
  {
   "cell_type": "code",
   "execution_count": 2,
   "metadata": {},
   "outputs": [
    {
     "data": {
      "text/html": [
       "<div>\n",
       "<style scoped>\n",
       "    .dataframe tbody tr th:only-of-type {\n",
       "        vertical-align: middle;\n",
       "    }\n",
       "\n",
       "    .dataframe tbody tr th {\n",
       "        vertical-align: top;\n",
       "    }\n",
       "\n",
       "    .dataframe thead th {\n",
       "        text-align: right;\n",
       "    }\n",
       "</style>\n",
       "<table border=\"1\" class=\"dataframe\">\n",
       "  <thead>\n",
       "    <tr style=\"text-align: right;\">\n",
       "      <th></th>\n",
       "      <th>MedInc</th>\n",
       "      <th>HouseAge</th>\n",
       "      <th>AveRooms</th>\n",
       "      <th>AveBedrms</th>\n",
       "      <th>Population</th>\n",
       "      <th>AveOccup</th>\n",
       "      <th>Latitude</th>\n",
       "      <th>Longitude</th>\n",
       "    </tr>\n",
       "  </thead>\n",
       "  <tbody>\n",
       "    <tr>\n",
       "      <th>0</th>\n",
       "      <td>5.2742</td>\n",
       "      <td>17.0</td>\n",
       "      <td>8.908654</td>\n",
       "      <td>1.884615</td>\n",
       "      <td>351.0</td>\n",
       "      <td>1.687500</td>\n",
       "      <td>32.98</td>\n",
       "      <td>-117.27</td>\n",
       "    </tr>\n",
       "    <tr>\n",
       "      <th>1</th>\n",
       "      <td>1.8438</td>\n",
       "      <td>52.0</td>\n",
       "      <td>3.069847</td>\n",
       "      <td>1.044293</td>\n",
       "      <td>2382.0</td>\n",
       "      <td>4.057922</td>\n",
       "      <td>34.07</td>\n",
       "      <td>-118.26</td>\n",
       "    </tr>\n",
       "    <tr>\n",
       "      <th>2</th>\n",
       "      <td>7.0691</td>\n",
       "      <td>13.0</td>\n",
       "      <td>6.689697</td>\n",
       "      <td>1.009697</td>\n",
       "      <td>2444.0</td>\n",
       "      <td>2.962424</td>\n",
       "      <td>37.57</td>\n",
       "      <td>-121.87</td>\n",
       "    </tr>\n",
       "    <tr>\n",
       "      <th>3</th>\n",
       "      <td>5.4719</td>\n",
       "      <td>38.0</td>\n",
       "      <td>5.890080</td>\n",
       "      <td>0.957105</td>\n",
       "      <td>1228.0</td>\n",
       "      <td>3.292225</td>\n",
       "      <td>37.52</td>\n",
       "      <td>-122.28</td>\n",
       "    </tr>\n",
       "    <tr>\n",
       "      <th>4</th>\n",
       "      <td>4.0156</td>\n",
       "      <td>35.0</td>\n",
       "      <td>6.195312</td>\n",
       "      <td>1.171875</td>\n",
       "      <td>669.0</td>\n",
       "      <td>5.226562</td>\n",
       "      <td>33.93</td>\n",
       "      <td>-117.41</td>\n",
       "    </tr>\n",
       "  </tbody>\n",
       "</table>\n",
       "</div>"
      ],
      "text/plain": [
       "   MedInc  HouseAge  AveRooms  AveBedrms  Population  AveOccup  Latitude  \\\n",
       "0  5.2742      17.0  8.908654   1.884615       351.0  1.687500     32.98   \n",
       "1  1.8438      52.0  3.069847   1.044293      2382.0  4.057922     34.07   \n",
       "2  7.0691      13.0  6.689697   1.009697      2444.0  2.962424     37.57   \n",
       "3  5.4719      38.0  5.890080   0.957105      1228.0  3.292225     37.52   \n",
       "4  4.0156      35.0  6.195312   1.171875       669.0  5.226562     33.93   \n",
       "\n",
       "   Longitude  \n",
       "0    -117.27  \n",
       "1    -118.26  \n",
       "2    -121.87  \n",
       "3    -122.28  \n",
       "4    -117.41  "
      ]
     },
     "execution_count": 2,
     "metadata": {},
     "output_type": "execute_result"
    }
   ],
   "source": [
    "# Read in the california housing data set\n",
    "california_data = pd.read_csv('../Resources/California_Housing.csv')\n",
    "california_data.head()"
   ]
  },
  {
   "cell_type": "code",
   "execution_count": 3,
   "metadata": {},
   "outputs": [
    {
     "data": {
      "image/png": "[encoded data removed]",
      "text/plain": [
       "<Figure size 432x288 with 1 Axes>"
      ]
     },
     "metadata": {
      "needs_background": "light"
     },
     "output_type": "display_data"
    },
    {
     "name": "stdout",
     "output_type": "stream",
     "text": [
      "1387.9633333333334\n",
      "1152.5\n",
      "0    1128.0\n",
      "dtype: float64\n"
     ]
    }
   ],
   "source": [
    "# Determine which measure of central tendency is most appropriate to describe the Population\n",
    "plt.hist(california_data['Population'])\n",
    "plt.xlabel('Population')\n",
    "plt.ylabel('Counts')\n",
    "plt.show()\n",
    "print(california_data['Population'].mean())\n",
    "print(california_data['Population'].median())\n",
    "print(california_data['Population'].mode())"
   ]
  },
  {
   "cell_type": "code",
   "execution_count": 4,
   "metadata": {},
   "outputs": [
    {
     "data": {
      "image/png": "[encoded data removed]",
      "text/plain": [
       "<Figure size 432x288 with 1 Axes>"
      ]
     },
     "metadata": {
      "needs_background": "light"
     },
     "output_type": "display_data"
    },
    {
     "name": "stdout",
     "output_type": "stream",
     "text": [
      "NormaltestResult(statistic=7.7199024720172975, pvalue=0.021069026907837452)\n"
     ]
    }
   ],
   "source": [
    "# Determine if the house age in California is normally distributed\n",
    "plt.hist(california_data['HouseAge'])\n",
    "plt.xlabel('House Age (years)')\n",
    "plt.ylabel('Counts')\n",
    "plt.show()\n",
    "print(sts.normaltest(california_data[\"HouseAge\"].sample(100)))"
   ]
  },
  {
   "cell_type": "code",
   "execution_count": 5,
   "metadata": {},
   "outputs": [
    {
     "name": "stdout",
     "output_type": "stream",
     "text": [
      "The lower quartile of occupancy is: 2.4250909806040477\n",
      "The upper quartile of occupancy is: 3.2974592743428355\n",
      "The interquartile range of occupancy is: 0.8723682937387878\n",
      "The the median of occupancy is: 2.81970199317512 \n",
      "Values below 1.116538539995866 could be outliers.\n",
      "Values above 4.606011714951017 could be outliers.\n"
     ]
    },
    {
     "data": {
      "text/html": [
       "<div>\n",
       "<style scoped>\n",
       "    .dataframe tbody tr th:only-of-type {\n",
       "        vertical-align: middle;\n",
       "    }\n",
       "\n",
       "    .dataframe tbody tr th {\n",
       "        vertical-align: top;\n",
       "    }\n",
       "\n",
       "    .dataframe thead th {\n",
       "        text-align: right;\n",
       "    }\n",
       "</style>\n",
       "<table border=\"1\" class=\"dataframe\">\n",
       "  <thead>\n",
       "    <tr style=\"text-align: right;\">\n",
       "      <th></th>\n",
       "      <th>MedInc</th>\n",
       "      <th>HouseAge</th>\n",
       "      <th>AveRooms</th>\n",
       "      <th>AveBedrms</th>\n",
       "      <th>Population</th>\n",
       "      <th>AveOccup</th>\n",
       "      <th>Latitude</th>\n",
       "      <th>Longitude</th>\n",
       "    </tr>\n",
       "  </thead>\n",
       "  <tbody>\n",
       "    <tr>\n",
       "      <th>4</th>\n",
       "      <td>4.0156</td>\n",
       "      <td>35.0</td>\n",
       "      <td>6.195312</td>\n",
       "      <td>1.171875</td>\n",
       "      <td>669.0</td>\n",
       "      <td>5.226562</td>\n",
       "      <td>33.93</td>\n",
       "      <td>-117.41</td>\n",
       "    </tr>\n",
       "    <tr>\n",
       "      <th>42</th>\n",
       "      <td>3.6429</td>\n",
       "      <td>26.0</td>\n",
       "      <td>5.836111</td>\n",
       "      <td>1.083333</td>\n",
       "      <td>2171.0</td>\n",
       "      <td>6.030556</td>\n",
       "      <td>38.57</td>\n",
       "      <td>-122.44</td>\n",
       "    </tr>\n",
       "    <tr>\n",
       "      <th>72</th>\n",
       "      <td>2.7759</td>\n",
       "      <td>30.0</td>\n",
       "      <td>4.167619</td>\n",
       "      <td>1.059048</td>\n",
       "      <td>2727.0</td>\n",
       "      <td>5.194286</td>\n",
       "      <td>33.83</td>\n",
       "      <td>-118.08</td>\n",
       "    </tr>\n",
       "    <tr>\n",
       "      <th>143</th>\n",
       "      <td>3.0509</td>\n",
       "      <td>30.0</td>\n",
       "      <td>5.598131</td>\n",
       "      <td>1.172897</td>\n",
       "      <td>1019.0</td>\n",
       "      <td>4.761682</td>\n",
       "      <td>33.94</td>\n",
       "      <td>-117.40</td>\n",
       "    </tr>\n",
       "    <tr>\n",
       "      <th>168</th>\n",
       "      <td>2.6300</td>\n",
       "      <td>29.0</td>\n",
       "      <td>3.496212</td>\n",
       "      <td>1.003788</td>\n",
       "      <td>2576.0</td>\n",
       "      <td>4.878788</td>\n",
       "      <td>33.97</td>\n",
       "      <td>-118.14</td>\n",
       "    </tr>\n",
       "    <tr>\n",
       "      <th>...</th>\n",
       "      <td>...</td>\n",
       "      <td>...</td>\n",
       "      <td>...</td>\n",
       "      <td>...</td>\n",
       "      <td>...</td>\n",
       "      <td>...</td>\n",
       "      <td>...</td>\n",
       "      <td>...</td>\n",
       "    </tr>\n",
       "    <tr>\n",
       "      <th>2793</th>\n",
       "      <td>2.5556</td>\n",
       "      <td>11.0</td>\n",
       "      <td>5.825112</td>\n",
       "      <td>1.255605</td>\n",
       "      <td>1158.0</td>\n",
       "      <td>5.192825</td>\n",
       "      <td>34.96</td>\n",
       "      <td>-120.45</td>\n",
       "    </tr>\n",
       "    <tr>\n",
       "      <th>2849</th>\n",
       "      <td>9.8892</td>\n",
       "      <td>40.0</td>\n",
       "      <td>8.244019</td>\n",
       "      <td>0.995215</td>\n",
       "      <td>976.0</td>\n",
       "      <td>4.669856</td>\n",
       "      <td>37.46</td>\n",
       "      <td>-122.20</td>\n",
       "    </tr>\n",
       "    <tr>\n",
       "      <th>2907</th>\n",
       "      <td>4.8750</td>\n",
       "      <td>5.0</td>\n",
       "      <td>7.101721</td>\n",
       "      <td>1.176056</td>\n",
       "      <td>7694.0</td>\n",
       "      <td>6.020344</td>\n",
       "      <td>34.69</td>\n",
       "      <td>-118.20</td>\n",
       "    </tr>\n",
       "    <tr>\n",
       "      <th>2919</th>\n",
       "      <td>1.6150</td>\n",
       "      <td>42.0</td>\n",
       "      <td>4.824000</td>\n",
       "      <td>1.216000</td>\n",
       "      <td>1167.0</td>\n",
       "      <td>4.668000</td>\n",
       "      <td>33.96</td>\n",
       "      <td>-118.28</td>\n",
       "    </tr>\n",
       "    <tr>\n",
       "      <th>2949</th>\n",
       "      <td>3.2197</td>\n",
       "      <td>17.0</td>\n",
       "      <td>6.537815</td>\n",
       "      <td>0.984874</td>\n",
       "      <td>2791.0</td>\n",
       "      <td>4.690756</td>\n",
       "      <td>32.80</td>\n",
       "      <td>-117.11</td>\n",
       "    </tr>\n",
       "  </tbody>\n",
       "</table>\n",
       "<p>100 rows × 8 columns</p>\n",
       "</div>"
      ],
      "text/plain": [
       "      MedInc  HouseAge  AveRooms  AveBedrms  Population  AveOccup  Latitude  \\\n",
       "4     4.0156      35.0  6.195312   1.171875       669.0  5.226562     33.93   \n",
       "42    3.6429      26.0  5.836111   1.083333      2171.0  6.030556     38.57   \n",
       "72    2.7759      30.0  4.167619   1.059048      2727.0  5.194286     33.83   \n",
       "143   3.0509      30.0  5.598131   1.172897      1019.0  4.761682     33.94   \n",
       "168   2.6300      29.0  3.496212   1.003788      2576.0  4.878788     33.97   \n",
       "...      ...       ...       ...        ...         ...       ...       ...   \n",
       "2793  2.5556      11.0  5.825112   1.255605      1158.0  5.192825     34.96   \n",
       "2849  9.8892      40.0  8.244019   0.995215       976.0  4.669856     37.46   \n",
       "2907  4.8750       5.0  7.101721   1.176056      7694.0  6.020344     34.69   \n",
       "2919  1.6150      42.0  4.824000   1.216000      1167.0  4.668000     33.96   \n",
       "2949  3.2197      17.0  6.537815   0.984874      2791.0  4.690756     32.80   \n",
       "\n",
       "      Longitude  \n",
       "4       -117.41  \n",
       "42      -122.44  \n",
       "72      -118.08  \n",
       "143     -117.40  \n",
       "168     -118.14  \n",
       "...         ...  \n",
       "2793    -120.45  \n",
       "2849    -122.20  \n",
       "2907    -118.20  \n",
       "2919    -118.28  \n",
       "2949    -117.11  \n",
       "\n",
       "[100 rows x 8 columns]"
      ]
     },
     "execution_count": 5,
     "metadata": {},
     "output_type": "execute_result"
    }
   ],
   "source": [
    "# Determine if there are any potential outliers in the average occupancy in California\n",
    "quartiles = california_data['AveOccup'].quantile([.25,.5,.75])\n",
    "lowerq = quartiles[0.25]\n",
    "upperq = quartiles[0.75]\n",
    "iqr = upperq-lowerq\n",
    "\n",
    "print(f\"The lower quartile of occupancy is: {lowerq}\")\n",
    "print(f\"The upper quartile of occupancy is: {upperq}\")\n",
    "print(f\"The interquartile range of occupancy is: {iqr}\")\n",
    "print(f\"The the median of occupancy is: {quartiles[0.5]} \")\n",
    "\n",
    "lower_bound = lowerq - (1.5*iqr)\n",
    "upper_bound = upperq + (1.5*iqr)\n",
    "print(f\"Values below {lower_bound} could be outliers.\")\n",
    "print(f\"Values above {upper_bound} could be outliers.\")\n",
    "\n",
    "outlier_occupancy = california_data.loc[(california_data['AveOccup'] < lower_bound) | (california_data['AveOccup'] > upper_bound)]\n",
    "outlier_occupancy"
   ]
  },
  {
   "cell_type": "code",
   "execution_count": 6,
   "metadata": {},
   "outputs": [
    {
     "name": "stdout",
     "output_type": "stream",
     "text": [
      "The minimum median income of the potential outliers is 0.716\n",
      "The maximum median income of the potential outliers is 15.0001\n"
     ]
    }
   ],
   "source": [
    "# With the potential outliers, what is the lowest and highest median income (in $1000s) observed?\n",
    "print(f\"The minimum median income of the potential outliers is {outlier_occupancy['MedInc'].min()}\")\n",
    "print(f\"The maximum median income of the potential outliers is {outlier_occupancy['MedInc'].max()}\")"
   ]
  },
  {
   "cell_type": "code",
   "execution_count": null,
   "metadata": {},
   "outputs": [],
   "source": [
    "# Bonus - plot the latitude and longitude of the California housing data using Matplotlib, color the data points using the median income of the block.\n",
    "plt.scatter(california_data['Longitude'],california_data['Latitude'],c=california_data['MedInc'])\n",
    "clb = plt.colorbar()\n",
    "plt.xlabel(\"Latitude\")\n",
    "plt.ylabel(\"Longitude\")\n",
    "clb.set_label(\"Median Income\")\n",
    "plt.show()"
   ]
  }
 ],
 "metadata": {
  "kernelspec": {
   "display_name": "Python 3",
   "language": "python",
   "name": "python3"
  },
  "language_info": {
   "codemirror_mode": {
    "name": "ipython",
    "version": 3
   },
   "file_extension": ".py",
   "mimetype": "text/x-python",
   "name": "python",
   "nbconvert_exporter": "python",
   "pygments_lexer": "ipython3",
   "version": "3.6.9"
  }
 },
 "nbformat": 4,
 "nbformat_minor": 4
}
