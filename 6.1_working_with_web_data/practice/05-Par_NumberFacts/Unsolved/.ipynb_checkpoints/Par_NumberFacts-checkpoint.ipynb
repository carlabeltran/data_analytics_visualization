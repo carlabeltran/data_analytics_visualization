{
 "cells": [
  {
   "cell_type": "code",
   "execution_count": 1,
   "metadata": {},
   "outputs": [],
   "source": [
    "# Dependencies\n",
    "import requests\n",
    "import json\n",
    "from pprint import pprint"
   ]
  },
  {
   "cell_type": "code",
   "execution_count": 2,
   "metadata": {},
   "outputs": [],
   "source": [
    "# Base URL for GET requests to retrieve number/date facts\n",
    "base_url = \"http://numbersapi.com/\"\n",
    "math_url = \"/math\"\n",
    "date_url = \"/date\""
   ]
  },
  {
   "cell_type": "code",
   "execution_count": 19,
   "metadata": {},
   "outputs": [
    {
     "name": "stdin",
     "output_type": "stream",
     "text": [
      "What kind of number fact would you like? Enter one of the following: 'math', 'date', or 'trivia' kkdkd\n"
     ]
    }
   ],
   "source": [
    "# Ask the user what kind of data they would like to search for\n",
    "typeInput = input(\"What kind of number fact would you like? Enter one of the following: 'math', 'date', or 'trivia'\")\n"
   ]
  },
  {
   "cell_type": "code",
   "execution_count": 20,
   "metadata": {},
   "outputs": [
    {
     "name": "stdout",
     "output_type": "stream",
     "text": [
      "Invalid option specified\n"
     ]
    }
   ],
   "source": [
    "# Create code to return a number fact\n",
    "if typeInput == \"trivia\":\n",
    "    number = input(\"You chose trivia. Enter a number.\")\n",
    "    response = requests.get(base_url + number + \"?json\" ).json()\n",
    "    print(response[\"text\"])\n",
    "    \n",
    "if typeInput == \"date\":\n",
    "    month = input(\"You chose date. Enter a value between 1 and 12\")\n",
    "    day = input(\"Enter a value between 1 and 30\")\n",
    "    response = requests.get(base_url + str(month) + \"/\" + str(day) + \"?json\").json()\n",
    "    print(response[\"text\"])\n",
    " \n",
    "if typeInput == \"math\":\n",
    "    number = input(\"You chose math. Enter a number.\")\n",
    "    response = requests.get(base_url + number + math_url + \"?json\").json()\n",
    "    print(response[\"text\"])\n",
    "    \n",
    "else:\n",
    "    print(\"Invalid option specified\")"
   ]
  },
  {
   "cell_type": "code",
   "execution_count": null,
   "metadata": {},
   "outputs": [],
   "source": []
  }
 ],
 "metadata": {
  "kernelspec": {
   "display_name": "Python 3",
   "language": "python",
   "name": "python3"
  },
  "language_info": {
   "codemirror_mode": {
    "name": "ipython",
    "version": 3
   },
   "file_extension": ".py",
   "mimetype": "text/x-python",
   "name": "python",
   "nbconvert_exporter": "python",
   "pygments_lexer": "ipython3",
   "version": "3.6.9"
  },
  "varInspector": {
   "cols": {
    "lenName": 16,
    "lenType": 16,
    "lenVar": 40
   },
   "kernels_config": {
    "python": {
     "delete_cmd_postfix": "",
     "delete_cmd_prefix": "del ",
     "library": "var_list.py",
     "varRefreshCmd": "print(var_dic_list())"
    },
    "r": {
     "delete_cmd_postfix": ") ",
     "delete_cmd_prefix": "rm(",
     "library": "var_list.r",
     "varRefreshCmd": "cat(var_dic_list()) "
    }
   },
   "types_to_exclude": [
    "module",
    "function",
    "builtin_function_or_method",
    "instance",
    "_Feature"
   ],
   "window_display": false
  }
 },
 "nbformat": 4,
 "nbformat_minor": 4
}
