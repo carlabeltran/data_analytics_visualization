{
 "cells": [
  {
   "cell_type": "code",
   "execution_count": 13,
   "metadata": {},
   "outputs": [
    {
     "name": "stdout",
     "output_type": "stream",
     "text": [
      "https://api.nytimes.com/svc/search/v2/articlesearch.json?&begin_date=20191231&end_date20200110&q=TikTok&api-key=lGrEOnziNfXy4D1I8k0QRKgVmBv5CW9O\n"
     ]
    }
   ],
   "source": [
    "# Dependencies\n",
    "import requests\n",
    "from config import api_key\n",
    "from pprint import pprint\n",
    "\n",
    "url = \"https://api.nytimes.com/svc/search/v2/articlesearch.json?\"\n",
    "\n",
    "# Store a search term\n",
    "query = \"TikTok\"\n",
    "\n",
    "# Search for articles published between a begin and end date\n",
    "begin_date = \"20191231\"\n",
    "end_date = \"20200110\"\n",
    "\n",
    "# Build url\n",
    "query_url = url  + \"&begin_date=\" + begin_date + \"&end_date\" + end_date + \"&q=\" + query + \"&api-key=\" + api_key\n",
    "print(query_url)\n"
   ]
  },
  {
   "cell_type": "code",
   "execution_count": 21,
   "metadata": {},
   "outputs": [
    {
     "name": "stdout",
     "output_type": "stream",
     "text": [
      "The city is home to a land rush of “collab houses,” where the content creators are getting younger and younger.\n",
      "The vulnerabilities, which the app says it has fixed, could have let attackers manipulate content and extract personal data.\n",
      "The Department of Defense advised military personnel to remove the Chinese-owned social media application from government-issued and personal smartphones.\n",
      "Popular video-sharing app TikTok issued a broad ban on Wednesday against \"misleading information\" that could cause harm to its community or the public, setting itself apart from rivals like Facebook which say that they do not want to be arbiters o...\n",
      "In the Hype House, TikTokers live together and collaborate on videos all day and night. Would you ever live in a home focused on creating social media content?\n",
      "The top iPhone and iPad apps on App Store for week ending December 29, 2019:\n",
      "Facebook Inc is setting up a new engineering team in Singapore to focus on its lucrative China advertising business, according to three people familiar with the effort, even as chief executive Mark Zuckerberg ramps up criticism of a country that b...\n",
      "Online platforms including Facebook and Alphabet Inc's  Google face growing pressure to stop carrying political ads that contain false or misleading claims ahead of the U.S. presidential election.\n",
      "The video service is making several changes after a settlement with federal and state regulators.\n",
      "Did you follow the headlines this week?\n"
     ]
    }
   ],
   "source": [
    "# Retrieve articles\n",
    "articles = requests.get(query_url).json()\n",
    "# pprint(articles)\n",
    "\n",
    "articles_list = [article for article in articles[\"response\"][\"docs\"]]\n",
    "# pprint(articles_list)\n",
    "\n",
    "# snippets = []\n",
    "# snippets = [snippets.append(article[\"snippet\"]) for article in articles[\"response\"][\"docs\"]]\n",
    "for article in articles[\"response\"][\"docs\"]:\n",
    "    print(article[\"snippet\"])"
   ]
  },
  {
   "cell_type": "code",
   "execution_count": null,
   "metadata": {},
   "outputs": [],
   "source": [
    "# BONUS: How would we get 30 results? \n",
    "# HINT: Look up the page query param"
   ]
  }
 ],
 "metadata": {
  "kernelspec": {
   "display_name": "Python 3",
   "language": "python",
   "name": "python3"
  },
  "language_info": {
   "codemirror_mode": {
    "name": "ipython",
    "version": 3
   },
   "file_extension": ".py",
   "mimetype": "text/x-python",
   "name": "python",
   "nbconvert_exporter": "python",
   "pygments_lexer": "ipython3",
   "version": "3.6.9"
  },
  "varInspector": {
   "cols": {
    "lenName": 16,
    "lenType": 16,
    "lenVar": 40
   },
   "kernels_config": {
    "python": {
     "delete_cmd_postfix": "",
     "delete_cmd_prefix": "del ",
     "library": "var_list.py",
     "varRefreshCmd": "print(var_dic_list())"
    },
    "r": {
     "delete_cmd_postfix": ") ",
     "delete_cmd_prefix": "rm(",
     "library": "var_list.r",
     "varRefreshCmd": "cat(var_dic_list()) "
    }
   },
   "types_to_exclude": [
    "module",
    "function",
    "builtin_function_or_method",
    "instance",
    "_Feature"
   ],
   "window_display": false
  }
 },
 "nbformat": 4,
 "nbformat_minor": 4
}
