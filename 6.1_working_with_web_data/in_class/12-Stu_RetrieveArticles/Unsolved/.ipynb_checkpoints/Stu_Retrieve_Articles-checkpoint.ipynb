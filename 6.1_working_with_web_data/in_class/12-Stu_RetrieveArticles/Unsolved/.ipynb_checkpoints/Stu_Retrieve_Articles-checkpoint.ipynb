{
 "cells": [
  {
   "cell_type": "code",
   "execution_count": 20,
   "metadata": {},
   "outputs": [],
   "source": [
    "# Dependencies\n",
    "import requests\n",
    "from config import api_key\n",
    "from pprint import pprint\n",
    "\n",
    "url = \"https://api.nytimes.com/svc/search/v2/articlesearch.json?\"\n",
    "\n",
    "# Store a search term\n",
    "query = \"World War 3\"\n",
    "\n",
    "# Search for articles published between a begin and end dates\n",
    "\n",
    "\n",
    "# Build url\n",
    "query_url = url + \"api-key=\" + api_key + \"&q=\" + query + \"&begin_date=20200101&end_date=20200108\""
   ]
  },
  {
   "cell_type": "code",
   "execution_count": 23,
   "metadata": {},
   "outputs": [
    {
     "name": "stdout",
     "output_type": "stream",
     "text": [
      "Snippet:\n",
      "Democratic presidential contenders on Friday condemned the air strike that killed Iranian military commander Qassem Soleimani, saying President Donald Trump's decision was reckless and could lead the United States to another war in the Middle East...\n",
      "---------------------------------------------------------------------------\n",
      "Snippet:\n",
      "As tensions escalated between the United States and Iran, young people had to come to terms with the possibility that for the first time, their generation would be on the front lines.\n",
      "---------------------------------------------------------------------------\n",
      "Snippet:\n",
      "Your daily look at late-breaking news, upcoming events and the stories that will be talked about today:\n",
      "---------------------------------------------------------------------------\n",
      "Snippet:\n",
      "More than 3 million Syrian civilians are trapped in a war zone in the northwest of the country and utterly dependant on cross-border aid, the United Nations said on Tuesday, as it urged states to extend the mandate for that aid which expires in da...\n",
      "---------------------------------------------------------------------------\n",
      "Snippet:\n",
      "Democratic presidential candidate Joe Biden said Tuesday that President Donald Trump’s escalation of tensions with Iran proves him to be “dangerously incompetent” and puts the U.S. on the brink of war. \n",
      "---------------------------------------------------------------------------\n",
      "Snippet:\n",
      "French police on Sunday shot and wounded a man who had rushed toward a group of policemen with a knife shouting \"Allahu akbar\" (God is greatest) in the eastern city of Metz, local officials said.\n",
      "---------------------------------------------------------------------------\n",
      "Snippet:\n",
      "Iran's missile attack on U.S. army bases in Iraq overnight sent gold blasting above $1,600 an ounce, boosted the Japanese yen by almost 1% and oil by $3 a barrel. \n",
      "---------------------------------------------------------------------------\n",
      "Snippet:\n",
      "Iran's missile attack on U.S. army bases in Iraq overnight sent gold blasting above $1,600 an ounce, boosted the Japanese yen by almost 1% and oil by $3 a barrel. \n",
      "---------------------------------------------------------------------------\n",
      "Snippet:\n",
      "Your sneak preview of books coming out in 2020 from around the world.\n",
      "---------------------------------------------------------------------------\n",
      "Snippet:\n",
      "Our guide to film series and special screenings.\n",
      "---------------------------------------------------------------------------\n"
     ]
    }
   ],
   "source": [
    "# Retrieve articles\n",
    "articles = requests.get(query_url).json()\n",
    "\n",
    "# The \"response\" property in articles contains the actual articles\n",
    "# list comprehension.\n",
    "\n",
    "articles_list = [article for article in articles[\"response\"][\"docs\"]]\n",
    "# pprint(articles_list)\n",
    "for article in articles_list:\n",
    "    print(\"Snippet:\")\n",
    "    print(article[\"snippet\"])\n",
    "    print('---------------------------------------------------------------------------')"
   ]
  },
  {
   "cell_type": "code",
   "execution_count": null,
   "metadata": {},
   "outputs": [],
   "source": [
    "# BONUS: How would we get 30 results? \n",
    "# HINT: Look up the page query param"
   ]
  }
 ],
 "metadata": {
  "kernelspec": {
   "display_name": "Python 3",
   "language": "python",
   "name": "python3"
  },
  "language_info": {
   "codemirror_mode": {
    "name": "ipython",
    "version": 3
   },
   "file_extension": ".py",
   "mimetype": "text/x-python",
   "name": "python",
   "nbconvert_exporter": "python",
   "pygments_lexer": "ipython3",
   "version": "3.6.9"
  },
  "varInspector": {
   "cols": {
    "lenName": 16,
    "lenType": 16,
    "lenVar": 40
   },
   "kernels_config": {
    "python": {
     "delete_cmd_postfix": "",
     "delete_cmd_prefix": "del ",
     "library": "var_list.py",
     "varRefreshCmd": "print(var_dic_list())"
    },
    "r": {
     "delete_cmd_postfix": ") ",
     "delete_cmd_prefix": "rm(",
     "library": "var_list.r",
     "varRefreshCmd": "cat(var_dic_list()) "
    }
   },
   "types_to_exclude": [
    "module",
    "function",
    "builtin_function_or_method",
    "instance",
    "_Feature"
   ],
   "window_display": false
  }
 },
 "nbformat": 4,
 "nbformat_minor": 4
}
