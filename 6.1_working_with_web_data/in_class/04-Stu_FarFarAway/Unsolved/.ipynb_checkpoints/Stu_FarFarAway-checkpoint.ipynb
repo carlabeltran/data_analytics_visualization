{
 "cells": [
  {
   "cell_type": "code",
   "execution_count": 1,
   "metadata": {},
   "outputs": [],
   "source": [
    "# Dependencies\n",
    "import requests\n",
    "import json"
   ]
  },
  {
   "cell_type": "code",
   "execution_count": 2,
   "metadata": {},
   "outputs": [],
   "source": [
    "# URL for GET requests to retrieve Star Wars character data\n",
    "base_url = \"https://swapi.co/api/people/\""
   ]
  },
  {
   "cell_type": "code",
   "execution_count": 3,
   "metadata": {},
   "outputs": [
    {
     "name": "stdout",
     "output_type": "stream",
     "text": [
      "https://swapi.co/api/people/4\n"
     ]
    }
   ],
   "source": [
    "# Create a url with a specific character id\n",
    "character_id = '4'\n",
    "url = base_url + character_id\n",
    "print(url)"
   ]
  },
  {
   "cell_type": "code",
   "execution_count": 4,
   "metadata": {},
   "outputs": [
    {
     "name": "stdout",
     "output_type": "stream",
     "text": [
      "https://swapi.co/api/people/4/\n"
     ]
    }
   ],
   "source": [
    "# Perform a get request for this character\n",
    "response = requests.get(url)\n",
    "print(response.url)"
   ]
  },
  {
   "cell_type": "code",
   "execution_count": 5,
   "metadata": {},
   "outputs": [
    {
     "name": "stdout",
     "output_type": "stream",
     "text": [
      "{\n",
      "    \"birth_year\": \"41.9BBY\",\n",
      "    \"created\": \"2014-12-10T15:18:20.704000Z\",\n",
      "    \"edited\": \"2014-12-20T21:17:50.313000Z\",\n",
      "    \"eye_color\": \"yellow\",\n",
      "    \"films\": [\n",
      "        \"https://swapi.co/api/films/2/\",\n",
      "        \"https://swapi.co/api/films/6/\",\n",
      "        \"https://swapi.co/api/films/3/\",\n",
      "        \"https://swapi.co/api/films/1/\"\n",
      "    ],\n",
      "    \"gender\": \"male\",\n",
      "    \"hair_color\": \"none\",\n",
      "    \"height\": \"202\",\n",
      "    \"homeworld\": \"https://swapi.co/api/planets/1/\",\n",
      "    \"mass\": \"136\",\n",
      "    \"name\": \"Darth Vader\",\n",
      "    \"skin_color\": \"white\",\n",
      "    \"species\": [\n",
      "        \"https://swapi.co/api/species/1/\"\n",
      "    ],\n",
      "    \"starships\": [\n",
      "        \"https://swapi.co/api/starships/13/\"\n",
      "    ],\n",
      "    \"url\": \"https://swapi.co/api/people/4/\",\n",
      "    \"vehicles\": []\n",
      "}\n"
     ]
    }
   ],
   "source": [
    "# Storing the JSON response within a variable\n",
    "data = response.json()\n",
    "# Use json.dumps to print the json stored in variable\n",
    "print(json.dumps(data, indent=4, sort_keys=True))"
   ]
  },
  {
   "cell_type": "code",
   "execution_count": 11,
   "metadata": {},
   "outputs": [
    {
     "name": "stdout",
     "output_type": "stream",
     "text": [
      "The name of the character is Darth Vader\n"
     ]
    }
   ],
   "source": [
    "# Print the name of the character retrieved\n",
    "print(f\"The name of the character is {data['name']}\")"
   ]
  },
  {
   "cell_type": "code",
   "execution_count": 12,
   "metadata": {},
   "outputs": [
    {
     "name": "stdout",
     "output_type": "stream",
     "text": [
      "This character was in 4 films.\n"
     ]
    }
   ],
   "source": [
    "# Print the number of films that they were in (hint: use len())\n",
    "print(f\"This character was in {len(data['films'])} films.\")"
   ]
  },
  {
   "cell_type": "code",
   "execution_count": 16,
   "metadata": {},
   "outputs": [
    {
     "name": "stdout",
     "output_type": "stream",
     "text": [
      "<Response [200]>\n",
      "{\n",
      "    \"MGLT\": \"105\",\n",
      "    \"cargo_capacity\": \"150\",\n",
      "    \"consumables\": \"5 days\",\n",
      "    \"cost_in_credits\": \"unknown\",\n",
      "    \"created\": \"2014-12-12T11:21:32.991000Z\",\n",
      "    \"crew\": \"1\",\n",
      "    \"edited\": \"2014-12-22T17:35:44.549047Z\",\n",
      "    \"films\": [\n",
      "        \"https://swapi.co/api/films/1/\"\n",
      "    ],\n",
      "    \"hyperdrive_rating\": \"1.0\",\n",
      "    \"length\": \"9.2\",\n",
      "    \"manufacturer\": \"Sienar Fleet Systems\",\n",
      "    \"max_atmosphering_speed\": \"1200\",\n",
      "    \"model\": \"Twin Ion Engine Advanced x1\",\n",
      "    \"name\": \"TIE Advanced x1\",\n",
      "    \"passengers\": \"0\",\n",
      "    \"pilots\": [\n",
      "        \"https://swapi.co/api/people/4/\"\n",
      "    ],\n",
      "    \"starship_class\": \"Starfighter\",\n",
      "    \"url\": \"https://swapi.co/api/starships/13/\"\n",
      "}\n"
     ]
    }
   ],
   "source": [
    "# Request the starships URI found in the starships property of the\n",
    "# previously retreived json, then use the response to figure out what this \n",
    "# character's first starship was\n",
    "starships_url = data[\"starships\"][0]\n",
    "starships_response = requests.get(starships_url)\n",
    "print(starships_response)\n",
    "starships_data = starships_response.json()\n",
    "print(json.dumps(starships_data, indent=4, sort_keys=True))"
   ]
  },
  {
   "cell_type": "code",
   "execution_count": 17,
   "metadata": {},
   "outputs": [
    {
     "name": "stdout",
     "output_type": "stream",
     "text": [
      "The character's first starship was TIE Advanced x1.\n"
     ]
    }
   ],
   "source": [
    "# Print the name of the character's first starship\n",
    "print(f\"The character's first starship was {starships_data['name']}.\")"
   ]
  },
  {
   "cell_type": "code",
   "execution_count": 25,
   "metadata": {},
   "outputs": [
    {
     "name": "stdout",
     "output_type": "stream",
     "text": [
      "The character appeared in the following films:\n",
      "\n",
      "The Empire Strikes Back\n",
      "Revenge of the Sith\n",
      "Return of the Jedi\n",
      "A New Hope\n"
     ]
    }
   ],
   "source": [
    "films = data[\"films\"]\n",
    "\n",
    "print(f\"The character appeared in the following films:\\r\\n\")\n",
    "for film in films:\n",
    "    film_url = film\n",
    "    film_response = requests.get(film_url)\n",
    "#     print(film_response)\n",
    "    film_data = film_response.json()\n",
    "#     print(json.dumps(film_data, indent=4, sort_keys=True))\n",
    "    print(film_data[\"title\"])\n"
   ]
  },
  {
   "cell_type": "code",
   "execution_count": null,
   "metadata": {},
   "outputs": [],
   "source": []
  }
 ],
 "metadata": {
  "kernelspec": {
   "display_name": "Python 3",
   "language": "python",
   "name": "python3"
  },
  "language_info": {
   "codemirror_mode": {
    "name": "ipython",
    "version": 3
   },
   "file_extension": ".py",
   "mimetype": "text/x-python",
   "name": "python",
   "nbconvert_exporter": "python",
   "pygments_lexer": "ipython3",
   "version": "3.6.9"
  },
  "varInspector": {
   "cols": {
    "lenName": 16,
    "lenType": 16,
    "lenVar": 40
   },
   "kernels_config": {
    "python": {
     "delete_cmd_postfix": "",
     "delete_cmd_prefix": "del ",
     "library": "var_list.py",
     "varRefreshCmd": "print(var_dic_list())"
    },
    "r": {
     "delete_cmd_postfix": ") ",
     "delete_cmd_prefix": "rm(",
     "library": "var_list.r",
     "varRefreshCmd": "cat(var_dic_list()) "
    }
   },
   "types_to_exclude": [
    "module",
    "function",
    "builtin_function_or_method",
    "instance",
    "_Feature"
   ],
   "window_display": false
  }
 },
 "nbformat": 4,
 "nbformat_minor": 4
}
