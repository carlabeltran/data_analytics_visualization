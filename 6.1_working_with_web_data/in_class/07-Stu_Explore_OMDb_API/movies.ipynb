{
 "cells": [
  {
   "cell_type": "code",
   "execution_count": 1,
   "metadata": {},
   "outputs": [],
   "source": [
    "import requests\n",
    "import json\n",
    "from pprint import pprint"
   ]
  },
  {
   "cell_type": "code",
   "execution_count": 2,
   "metadata": {},
   "outputs": [],
   "source": [
    "url = \"http://www.omdbapi.com/?t=\"\n",
    "api_key = \"&apikey=trilogy\""
   ]
  },
  {
   "cell_type": "code",
   "execution_count": 9,
   "metadata": {},
   "outputs": [
    {
     "name": "stdin",
     "output_type": "stream",
     "text": [
      "What movie would you like to search for? Tremors\n"
     ]
    }
   ],
   "source": [
    "movieInput = input(\"What movie would you like to search for?\")"
   ]
  },
  {
   "cell_type": "code",
   "execution_count": 10,
   "metadata": {},
   "outputs": [
    {
     "name": "stdout",
     "output_type": "stream",
     "text": [
      "http://www.omdbapi.com/?t=Tremors&apikey=trilogy\n"
     ]
    }
   ],
   "source": [
    "response = requests.get(url + movieInput + api_key)\n",
    "print(response.url)"
   ]
  },
  {
   "cell_type": "code",
   "execution_count": 11,
   "metadata": {},
   "outputs": [
    {
     "name": "stdout",
     "output_type": "stream",
     "text": [
      "{'Actors': 'Kevin Bacon, Fred Ward, Finn Carter, Michael Gross',\n",
      " 'Awards': '5 nominations.',\n",
      " 'BoxOffice': 'N/A',\n",
      " 'Country': 'USA',\n",
      " 'DVD': '28 Apr 1998',\n",
      " 'Director': 'Ron Underwood',\n",
      " 'Genre': 'Comedy, Horror',\n",
      " 'Language': 'English',\n",
      " 'Metascore': '65',\n",
      " 'Plot': 'Natives of a small isolated town defend themselves against strange '\n",
      "         'underground creatures which are killing them one by one.',\n",
      " 'Poster': 'https://m.media-amazon.com/images/M/MV5BMTEzNjkwMzIyMjZeQTJeQWpwZ15BbWU4MDI2NTU5ODYx._V1_SX300.jpg',\n",
      " 'Production': 'MCA/Universal Pictures',\n",
      " 'Rated': 'PG-13',\n",
      " 'Ratings': [{'Source': 'Internet Movie Database', 'Value': '7.1/10'},\n",
      "             {'Source': 'Rotten Tomatoes', 'Value': '85%'},\n",
      "             {'Source': 'Metacritic', 'Value': '65/100'}],\n",
      " 'Released': '19 Jan 1990',\n",
      " 'Response': 'True',\n",
      " 'Runtime': '96 min',\n",
      " 'Title': 'Tremors',\n",
      " 'Type': 'movie',\n",
      " 'Website': 'N/A',\n",
      " 'Writer': 'S.S. Wilson (story), Brent Maddock (story), Ron Underwood (story), '\n",
      "           'S.S. Wilson (screenplay), Brent Maddock (screenplay)',\n",
      " 'Year': '1990',\n",
      " 'imdbID': 'tt0100814',\n",
      " 'imdbRating': '7.1',\n",
      " 'imdbVotes': '110,970'}\n"
     ]
    }
   ],
   "source": [
    "data = response.json()\n",
    "pprint(data)"
   ]
  },
  {
   "cell_type": "code",
   "execution_count": null,
   "metadata": {},
   "outputs": [],
   "source": []
  }
 ],
 "metadata": {
  "kernelspec": {
   "display_name": "Python 3",
   "language": "python",
   "name": "python3"
  },
  "language_info": {
   "codemirror_mode": {
    "name": "ipython",
    "version": 3
   },
   "file_extension": ".py",
   "mimetype": "text/x-python",
   "name": "python",
   "nbconvert_exporter": "python",
   "pygments_lexer": "ipython3",
   "version": "3.6.9"
  }
 },
 "nbformat": 4,
 "nbformat_minor": 4
}
