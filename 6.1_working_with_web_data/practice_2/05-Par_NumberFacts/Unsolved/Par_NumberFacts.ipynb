{
 "cells": [
  {
   "cell_type": "code",
   "execution_count": 3,
   "metadata": {},
   "outputs": [],
   "source": [
    "# Dependencies\n",
    "import requests\n",
    "import json"
   ]
  },
  {
   "cell_type": "code",
   "execution_count": 4,
   "metadata": {},
   "outputs": [],
   "source": [
    "# Base URL for GET requests to retrieve number/date facts\n",
    "base_url = \"http://numbersapi.com/\""
   ]
  },
  {
   "cell_type": "code",
   "execution_count": 20,
   "metadata": {},
   "outputs": [
    {
     "name": "stdin",
     "output_type": "stream",
     "text": [
      "What kind of data would you like to search for? Enter 'trivia', 'math', or 'date'. kdkdkdk\n"
     ]
    }
   ],
   "source": [
    "# Ask the user what kind of data they would like to search for\n",
    "userInput = input(\"What kind of data would you like to search for? Enter 'trivia', 'math', or 'date'.\")"
   ]
  },
  {
   "cell_type": "code",
   "execution_count": 21,
   "metadata": {},
   "outputs": [
    {
     "name": "stdout",
     "output_type": "stream",
     "text": [
      "Invalid option. Please try again.\n"
     ]
    }
   ],
   "source": [
    "# Create code to return a number fact\n",
    "if userInput.lower() == 'date':\n",
    "    month = input(\"Enter  a month (1 - 12):\")\n",
    "    day = input(\"Enter a day:\")\n",
    "    response = requests.get(base_url + month + \"/\" + day + \"/date?json\").json()\n",
    "    print(response[\"text\"])\n",
    "\n",
    "if userInput.lower() == 'trivia':\n",
    "    number = input(\"Enter a number:\")\n",
    "    response = requests.get(base_url + number + \"?json\").json()\n",
    "    print(response[\"text\"])\n",
    "    \n",
    "if userInput.lower() == \"math\":\n",
    "    number = input(\"Enter a number:\")\n",
    "    response = requests.get(base_url + number + \"/math?json\").json()\n",
    "    print(response[\"text\"])\n",
    "    \n",
    "else:\n",
    "    print(\"Invalid option. Please try again.\")\n",
    "    "
   ]
  },
  {
   "cell_type": "code",
   "execution_count": null,
   "metadata": {},
   "outputs": [],
   "source": []
  }
 ],
 "metadata": {
  "kernelspec": {
   "display_name": "Python 3",
   "language": "python",
   "name": "python3"
  },
  "language_info": {
   "codemirror_mode": {
    "name": "ipython",
    "version": 3
   },
   "file_extension": ".py",
   "mimetype": "text/x-python",
   "name": "python",
   "nbconvert_exporter": "python",
   "pygments_lexer": "ipython3",
   "version": "3.6.9"
  },
  "varInspector": {
   "cols": {
    "lenName": 16,
    "lenType": 16,
    "lenVar": 40
   },
   "kernels_config": {
    "python": {
     "delete_cmd_postfix": "",
     "delete_cmd_prefix": "del ",
     "library": "var_list.py",
     "varRefreshCmd": "print(var_dic_list())"
    },
    "r": {
     "delete_cmd_postfix": ") ",
     "delete_cmd_prefix": "rm(",
     "library": "var_list.r",
     "varRefreshCmd": "cat(var_dic_list()) "
    }
   },
   "types_to_exclude": [
    "module",
    "function",
    "builtin_function_or_method",
    "instance",
    "_Feature"
   ],
   "window_display": false
  }
 },
 "nbformat": 4,
 "nbformat_minor": 4
}
