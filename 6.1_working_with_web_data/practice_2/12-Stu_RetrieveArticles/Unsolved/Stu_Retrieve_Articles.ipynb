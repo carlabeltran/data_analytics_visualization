{
 "cells": [
  {
   "cell_type": "code",
   "execution_count": 2,
   "metadata": {},
   "outputs": [],
   "source": [
    "# Dependencies\n",
    "import requests\n",
    "from config import api_key\n",
    "from pprint import pprint\n",
    "\n",
    "url = \"https://api.nytimes.com/svc/search/v2/articlesearch.json?\"\n",
    "\n",
    "# Store a search term\n",
    "query = \"Charli Damelio\"\n",
    "\n",
    "# Search for articles published between a begin and end date\n",
    "begin_date = 20191231\n",
    "end_date = 20200111\n",
    "\n",
    "# Build url\n",
    "url = f\"{url}api-key={api_key}&q={query}&begin_date={begin_date}&end_date={end_date}\"\n"
   ]
  },
  {
   "cell_type": "code",
   "execution_count": 5,
   "metadata": {},
   "outputs": [
    {
     "name": "stdout",
     "output_type": "stream",
     "text": [
      "-----------------------------------------------------\n",
      "Sergeant First Class Laurence Lang sends thank-you letter and photo to William Greenberg Jr Desserts in Manhattan after Early Show producer John D'Amelio fulfills his request for black-and-white cookies during visit to Baghdad; photo (M)\n",
      "-----------------------------------------------------\n",
      "The quintessential New York cookie, of “Seinfeld” and “Sex and the City” fame, has found a loyal following in Iraq.\n",
      "-----------------------------------------------------\n",
      "The city is home to a land rush of “collab houses,” where the content creators are getting younger and younger.\n",
      "-----------------------------------------------------\n",
      "Sean J Richard, son-in-law of imprisoned New Jersey mob boss John Riggi, is mob's latest embarrassing tell-all turncoat and key figure in indictments accusing Steven L Crea, Joseph Datello and 37 others with participating in a criminal enterprise ...\n",
      "-----------------------------------------------------\n",
      "\n",
      "-----------------------------------------------------\n",
      "Filmmakers, a cartoonist and other artists have banded together to build a tomb in Montmartre’s cemetery; the cactus adorning it looks suspiciously like a raised finger.\n",
      "-----------------------------------------------------\n",
      "Answers to questions from the Pop Quiz.\n",
      "-----------------------------------------------------\n",
      "In the Hype House, TikTokers live together and collaborate on videos all day and night. Would you ever live in a home focused on creating social media content?\n",
      "-----------------------------------------------------\n",
      "\n",
      "-----------------------------------------------------\n",
      "\n"
     ]
    }
   ],
   "source": [
    "# Retrieve articles\n",
    "retrieved_articles = requests.get(url).json()\n",
    "\n",
    "articles_list = [article for article in retrieved_articles[\"response\"][\"docs\"]]\n",
    "\n",
    "for article in articles_list:\n",
    "    print(\"-----------------------------------------------------\")\n",
    "    print(article[\"snippet\"])"
   ]
  },
  {
   "cell_type": "code",
   "execution_count": 17,
   "metadata": {},
   "outputs": [
    {
     "name": "stdout",
     "output_type": "stream",
     "text": [
      "0\n",
      "https://api.nytimes.com/svc/search/v2/articlesearch.json?api-key=lGrEOnziNfXy4D1I8k0QRKgVmBv5CW9O&q=TikTok&page=0\n",
      "1\n",
      "https://api.nytimes.com/svc/search/v2/articlesearch.json?api-key=lGrEOnziNfXy4D1I8k0QRKgVmBv5CW9O&q=TikTok&page=1\n",
      "2\n",
      "https://api.nytimes.com/svc/search/v2/articlesearch.json?api-key=lGrEOnziNfXy4D1I8k0QRKgVmBv5CW9O&q=TikTok&page=2\n",
      "---------------------------------------------------------\n",
      "The city is home to a land rush of “collab houses,” where the content creators are getting younger and younger.\n",
      "---------------------------------------------------------\n",
      "The vulnerabilities, which the app says it has fixed, could have let attackers manipulate content and extract personal data.\n",
      "---------------------------------------------------------\n",
      "The Department of Defense advised military personnel to remove the Chinese-owned social media application from government-issued and personal smartphones.\n",
      "---------------------------------------------------------\n",
      "TikTok says it’s ready to help its stars get rich.\n",
      "---------------------------------------------------------\n",
      "Baby Yoda is a productivity metaphor, O.K. Boomer can be tied to homeownership and hemp farming is an outgrowth of the trade war.\n",
      "---------------------------------------------------------\n",
      "The app faced renewed questions about whether it censors material after it removed an American’s video about Muslims in China.\n",
      "---------------------------------------------------------\n",
      "The video app said it would review its policies after a 17-year-old in New Jersey who discussed Chinese detention camps was locked out of her account.\n",
      "---------------------------------------------------------\n",
      "An oral history of the 2010s\n",
      "---------------------------------------------------------\n",
      "Taylor Lorenz, who writes about internet culture, explains how she keeps her finger on the pulse.\n",
      "---------------------------------------------------------\n",
      "Having taken a beating over national security concerns, the company is now wondering how it can convince Washington that it’s safe.\n",
      "---------------------------------------------------------\n",
      "Alex Zhu, the head of the Chinese-owned viral video app, is trying to assuage Washington’s fears. “I am quite optimistic,” he said.\n",
      "---------------------------------------------------------\n",
      "On Instagram, “mom” means linen-clad babies and perfect homes. On TikTok, it’s real women being their wholesome, goofy selves.\n",
      "---------------------------------------------------------\n",
      "The video app has been a runaway success around the world. But U.S. lawmakers have recently taken a strong disliking to it.\n",
      "---------------------------------------------------------\n",
      "Some workers may be more exposed to artificial intelligence than previously thought. But worry more about automation’s threat to less skilled employees.\n",
      "---------------------------------------------------------\n",
      "The rise of the seemingly innocuous app is forcing Americans to consider a world influenced by a Chinese-backed social media network.\n",
      "---------------------------------------------------------\n",
      "How young people are using the app to engage with, and critique, the movies.\n",
      "---------------------------------------------------------\n",
      "American’s big tech companies haven’t had to worry much about competition. Then an addictive Chinese app arrived.\n",
      "---------------------------------------------------------\n",
      "The review comes after lawmakers raised concerns about TikTok’s growing influence in the United States.\n",
      "---------------------------------------------------------\n",
      "Cecelia Condit’s unsettling 1983 work “Possibly in Michigan” has found a home among Generation Z.\n",
      "---------------------------------------------------------\n",
      "Teens love the app, and now it’s getting the stamp of approval with teacher-approved clubs. Did school just get ... fun?\n",
      "---------------------------------------------------------\n",
      "They’re goofy and fun and brands want in.\n",
      "---------------------------------------------------------\n",
      "Is the G7 going to meet at Trump’s Florida resort? Nope. Chinese protesters write final goodbyes. Tensions rise in Fort Worth. Memories of a dangerous New Jersey amusement park. And more.\n",
      "---------------------------------------------------------\n",
      "The video app offers an endless scroll of creativity and goofing off, told in 15-second snippets. What did five critics see when they went down the rabbit hole? Art, artistry and a lot of dancing.\n",
      "---------------------------------------------------------\n",
      "TikTok will change the way your social media works — even if you’re avoiding it.\n",
      "---------------------------------------------------------\n",
      "TikTok is popular with children and young adults worldwide, but regulators are scrutinizing it, citing concerns about misuse and privacy.\n",
      "---------------------------------------------------------\n",
      "I can’t give my students more time. But I try to change the way they think about and value it.\n",
      "---------------------------------------------------------\n",
      "The app is a throwback to a time before the commercialization of internet influence, when web culture consisted mainly of harmless weirdos trying to make each other laugh.\n",
      "---------------------------------------------------------\n",
      "Popular video-sharing app TikTok issued a broad ban on Wednesday against \"misleading information\" that could cause harm to its community or the public, setting itself apart from rivals like Facebook which say that they do not want to be arbiters o...\n",
      "---------------------------------------------------------\n",
      "In this lesson, students examine the video app through a media literacy lens.\n",
      "---------------------------------------------------------\n",
      "Illiberal innovations created for China’s vast surveilled and censored domestic market are increasingly popular overseas.\n"
     ]
    }
   ],
   "source": [
    "# BONUS: How would we get 30 results? \n",
    "# HINT: Look up the page query param\n",
    "\n",
    "url = \"https://api.nytimes.com/svc/search/v2/articlesearch.json?\"\n",
    "query=\"TikTok\"\n",
    "\n",
    "\n",
    "articles_list = []\n",
    "for page in range(0, 3):\n",
    "    print(page)\n",
    "    base_url = f\"{url}api-key={api_key}&q={query}&page={page}\"\n",
    "    print(base_url)\n",
    "    retrieved_articles = requests.get(base_url).json()\n",
    "    for article in retrieved_articles[\"response\"][\"docs\"]:\n",
    "        if article==None or article==\"\": \n",
    "            pass\n",
    "        articles_list.append(article)\n",
    "    \n",
    "for article in articles_list:\n",
    "    print(\"---------------------------------------------------------\")\n",
    "    print(article[\"snippet\"])"
   ]
  },
  {
   "cell_type": "code",
   "execution_count": null,
   "metadata": {},
   "outputs": [],
   "source": []
  }
 ],
 "metadata": {
  "kernelspec": {
   "display_name": "Python 3",
   "language": "python",
   "name": "python3"
  },
  "language_info": {
   "codemirror_mode": {
    "name": "ipython",
    "version": 3
   },
   "file_extension": ".py",
   "mimetype": "text/x-python",
   "name": "python",
   "nbconvert_exporter": "python",
   "pygments_lexer": "ipython3",
   "version": "3.6.9"
  },
  "varInspector": {
   "cols": {
    "lenName": 16,
    "lenType": 16,
    "lenVar": 40
   },
   "kernels_config": {
    "python": {
     "delete_cmd_postfix": "",
     "delete_cmd_prefix": "del ",
     "library": "var_list.py",
     "varRefreshCmd": "print(var_dic_list())"
    },
    "r": {
     "delete_cmd_postfix": ") ",
     "delete_cmd_prefix": "rm(",
     "library": "var_list.r",
     "varRefreshCmd": "cat(var_dic_list()) "
    }
   },
   "types_to_exclude": [
    "module",
    "function",
    "builtin_function_or_method",
    "instance",
    "_Feature"
   ],
   "window_display": false
  }
 },
 "nbformat": 4,
 "nbformat_minor": 4
}
